{
  "nbformat": 4,
  "nbformat_minor": 0,
  "metadata": {
    "accelerator": "GPU",
    "colab": {
      "name": "NLP_Project.ipynb",
      "provenance": [],
      "collapsed_sections": []
    },
    "kernelspec": {
      "display_name": "Python 3",
      "name": "python3"
    },
    "widgets": {
      "application/vnd.jupyter.widget-state+json": {
        "1a7a143d61c84c48884662cfcad65ce5": {
          "model_module": "@jupyter-widgets/controls",
          "model_name": "HBoxModel",
          "state": {
            "_view_name": "HBoxView",
            "_dom_classes": [],
            "_model_name": "HBoxModel",
            "_view_module": "@jupyter-widgets/controls",
            "_model_module_version": "1.5.0",
            "_view_count": null,
            "_view_module_version": "1.5.0",
            "box_style": "",
            "layout": "IPY_MODEL_1717487f5600432d878c2d34b078ef36",
            "_model_module": "@jupyter-widgets/controls",
            "children": [
              "IPY_MODEL_ab7abe0324cc4ba99c22df37c4e88aac",
              "IPY_MODEL_4fd330dbffb84acf827a4c650956d456"
            ]
          }
        },
        "1717487f5600432d878c2d34b078ef36": {
          "model_module": "@jupyter-widgets/base",
          "model_name": "LayoutModel",
          "state": {
            "_view_name": "LayoutView",
            "grid_template_rows": null,
            "right": null,
            "justify_content": null,
            "_view_module": "@jupyter-widgets/base",
            "overflow": null,
            "_model_module_version": "1.2.0",
            "_view_count": null,
            "flex_flow": null,
            "width": null,
            "min_width": null,
            "border": null,
            "align_items": null,
            "bottom": null,
            "_model_module": "@jupyter-widgets/base",
            "top": null,
            "grid_column": null,
            "overflow_y": null,
            "overflow_x": null,
            "grid_auto_flow": null,
            "grid_area": null,
            "grid_template_columns": null,
            "flex": null,
            "_model_name": "LayoutModel",
            "justify_items": null,
            "grid_row": null,
            "max_height": null,
            "align_content": null,
            "visibility": null,
            "align_self": null,
            "height": null,
            "min_height": null,
            "padding": null,
            "grid_auto_rows": null,
            "grid_gap": null,
            "max_width": null,
            "order": null,
            "_view_module_version": "1.2.0",
            "grid_template_areas": null,
            "object_position": null,
            "object_fit": null,
            "grid_auto_columns": null,
            "margin": null,
            "display": null,
            "left": null
          }
        },
        "ab7abe0324cc4ba99c22df37c4e88aac": {
          "model_module": "@jupyter-widgets/controls",
          "model_name": "FloatProgressModel",
          "state": {
            "_view_name": "ProgressView",
            "style": "IPY_MODEL_392a9eb40ffb447face476c1e6afe763",
            "_dom_classes": [],
            "description": "Downloading: 100%",
            "_model_name": "FloatProgressModel",
            "bar_style": "success",
            "max": 810912,
            "_view_module": "@jupyter-widgets/controls",
            "_model_module_version": "1.5.0",
            "value": 810912,
            "_view_count": null,
            "_view_module_version": "1.5.0",
            "orientation": "horizontal",
            "min": 0,
            "description_tooltip": null,
            "_model_module": "@jupyter-widgets/controls",
            "layout": "IPY_MODEL_dc1aa7f4271d4ff4bb380f17e9c2f2d3"
          }
        },
        "4fd330dbffb84acf827a4c650956d456": {
          "model_module": "@jupyter-widgets/controls",
          "model_name": "HTMLModel",
          "state": {
            "_view_name": "HTMLView",
            "style": "IPY_MODEL_ac72c893093d45749122a647543067a0",
            "_dom_classes": [],
            "description": "",
            "_model_name": "HTMLModel",
            "placeholder": "​",
            "_view_module": "@jupyter-widgets/controls",
            "_model_module_version": "1.5.0",
            "value": " 811k/811k [00:05&lt;00:00, 148kB/s]",
            "_view_count": null,
            "_view_module_version": "1.5.0",
            "description_tooltip": null,
            "_model_module": "@jupyter-widgets/controls",
            "layout": "IPY_MODEL_e165fb73445c4122930ac6474ede2995"
          }
        },
        "392a9eb40ffb447face476c1e6afe763": {
          "model_module": "@jupyter-widgets/controls",
          "model_name": "ProgressStyleModel",
          "state": {
            "_view_name": "StyleView",
            "_model_name": "ProgressStyleModel",
            "description_width": "initial",
            "_view_module": "@jupyter-widgets/base",
            "_model_module_version": "1.5.0",
            "_view_count": null,
            "_view_module_version": "1.2.0",
            "bar_color": null,
            "_model_module": "@jupyter-widgets/controls"
          }
        },
        "dc1aa7f4271d4ff4bb380f17e9c2f2d3": {
          "model_module": "@jupyter-widgets/base",
          "model_name": "LayoutModel",
          "state": {
            "_view_name": "LayoutView",
            "grid_template_rows": null,
            "right": null,
            "justify_content": null,
            "_view_module": "@jupyter-widgets/base",
            "overflow": null,
            "_model_module_version": "1.2.0",
            "_view_count": null,
            "flex_flow": null,
            "width": null,
            "min_width": null,
            "border": null,
            "align_items": null,
            "bottom": null,
            "_model_module": "@jupyter-widgets/base",
            "top": null,
            "grid_column": null,
            "overflow_y": null,
            "overflow_x": null,
            "grid_auto_flow": null,
            "grid_area": null,
            "grid_template_columns": null,
            "flex": null,
            "_model_name": "LayoutModel",
            "justify_items": null,
            "grid_row": null,
            "max_height": null,
            "align_content": null,
            "visibility": null,
            "align_self": null,
            "height": null,
            "min_height": null,
            "padding": null,
            "grid_auto_rows": null,
            "grid_gap": null,
            "max_width": null,
            "order": null,
            "_view_module_version": "1.2.0",
            "grid_template_areas": null,
            "object_position": null,
            "object_fit": null,
            "grid_auto_columns": null,
            "margin": null,
            "display": null,
            "left": null
          }
        },
        "ac72c893093d45749122a647543067a0": {
          "model_module": "@jupyter-widgets/controls",
          "model_name": "DescriptionStyleModel",
          "state": {
            "_view_name": "StyleView",
            "_model_name": "DescriptionStyleModel",
            "description_width": "",
            "_view_module": "@jupyter-widgets/base",
            "_model_module_version": "1.5.0",
            "_view_count": null,
            "_view_module_version": "1.2.0",
            "_model_module": "@jupyter-widgets/controls"
          }
        },
        "e165fb73445c4122930ac6474ede2995": {
          "model_module": "@jupyter-widgets/base",
          "model_name": "LayoutModel",
          "state": {
            "_view_name": "LayoutView",
            "grid_template_rows": null,
            "right": null,
            "justify_content": null,
            "_view_module": "@jupyter-widgets/base",
            "overflow": null,
            "_model_module_version": "1.2.0",
            "_view_count": null,
            "flex_flow": null,
            "width": null,
            "min_width": null,
            "border": null,
            "align_items": null,
            "bottom": null,
            "_model_module": "@jupyter-widgets/base",
            "top": null,
            "grid_column": null,
            "overflow_y": null,
            "overflow_x": null,
            "grid_auto_flow": null,
            "grid_area": null,
            "grid_template_columns": null,
            "flex": null,
            "_model_name": "LayoutModel",
            "justify_items": null,
            "grid_row": null,
            "max_height": null,
            "align_content": null,
            "visibility": null,
            "align_self": null,
            "height": null,
            "min_height": null,
            "padding": null,
            "grid_auto_rows": null,
            "grid_gap": null,
            "max_width": null,
            "order": null,
            "_view_module_version": "1.2.0",
            "grid_template_areas": null,
            "object_position": null,
            "object_fit": null,
            "grid_auto_columns": null,
            "margin": null,
            "display": null,
            "left": null
          }
        },
        "915a06018386439cb1291ae624581b54": {
          "model_module": "@jupyter-widgets/controls",
          "model_name": "HBoxModel",
          "state": {
            "_view_name": "HBoxView",
            "_dom_classes": [],
            "_model_name": "HBoxModel",
            "_view_module": "@jupyter-widgets/controls",
            "_model_module_version": "1.5.0",
            "_view_count": null,
            "_view_module_version": "1.5.0",
            "box_style": "",
            "layout": "IPY_MODEL_6cfb3b922bc44200aa690e319a2acc88",
            "_model_module": "@jupyter-widgets/controls",
            "children": [
              "IPY_MODEL_b3453f36e7a44f60a336cde946f76346",
              "IPY_MODEL_b607401259f94fb6ac36e82221110504"
            ]
          }
        },
        "6cfb3b922bc44200aa690e319a2acc88": {
          "model_module": "@jupyter-widgets/base",
          "model_name": "LayoutModel",
          "state": {
            "_view_name": "LayoutView",
            "grid_template_rows": null,
            "right": null,
            "justify_content": null,
            "_view_module": "@jupyter-widgets/base",
            "overflow": null,
            "_model_module_version": "1.2.0",
            "_view_count": null,
            "flex_flow": null,
            "width": null,
            "min_width": null,
            "border": null,
            "align_items": null,
            "bottom": null,
            "_model_module": "@jupyter-widgets/base",
            "top": null,
            "grid_column": null,
            "overflow_y": null,
            "overflow_x": null,
            "grid_auto_flow": null,
            "grid_area": null,
            "grid_template_columns": null,
            "flex": null,
            "_model_name": "LayoutModel",
            "justify_items": null,
            "grid_row": null,
            "max_height": null,
            "align_content": null,
            "visibility": null,
            "align_self": null,
            "height": null,
            "min_height": null,
            "padding": null,
            "grid_auto_rows": null,
            "grid_gap": null,
            "max_width": null,
            "order": null,
            "_view_module_version": "1.2.0",
            "grid_template_areas": null,
            "object_position": null,
            "object_fit": null,
            "grid_auto_columns": null,
            "margin": null,
            "display": null,
            "left": null
          }
        },
        "b3453f36e7a44f60a336cde946f76346": {
          "model_module": "@jupyter-widgets/controls",
          "model_name": "FloatProgressModel",
          "state": {
            "_view_name": "ProgressView",
            "style": "IPY_MODEL_a210670f0f0b460e9b10427284c45832",
            "_dom_classes": [],
            "description": "Downloading: 100%",
            "_model_name": "FloatProgressModel",
            "bar_style": "success",
            "max": 508,
            "_view_module": "@jupyter-widgets/controls",
            "_model_module_version": "1.5.0",
            "value": 508,
            "_view_count": null,
            "_view_module_version": "1.5.0",
            "orientation": "horizontal",
            "min": 0,
            "description_tooltip": null,
            "_model_module": "@jupyter-widgets/controls",
            "layout": "IPY_MODEL_35e5575102be4e19bd2905ff014ab07f"
          }
        },
        "b607401259f94fb6ac36e82221110504": {
          "model_module": "@jupyter-widgets/controls",
          "model_name": "HTMLModel",
          "state": {
            "_view_name": "HTMLView",
            "style": "IPY_MODEL_7277608431e347cdb965043def5cb279",
            "_dom_classes": [],
            "description": "",
            "_model_name": "HTMLModel",
            "placeholder": "​",
            "_view_module": "@jupyter-widgets/controls",
            "_model_module_version": "1.5.0",
            "value": " 508/508 [00:10&lt;00:00, 48.7B/s]",
            "_view_count": null,
            "_view_module_version": "1.5.0",
            "description_tooltip": null,
            "_model_module": "@jupyter-widgets/controls",
            "layout": "IPY_MODEL_e7858c2a7c264054b592043a489d934d"
          }
        },
        "a210670f0f0b460e9b10427284c45832": {
          "model_module": "@jupyter-widgets/controls",
          "model_name": "ProgressStyleModel",
          "state": {
            "_view_name": "StyleView",
            "_model_name": "ProgressStyleModel",
            "description_width": "initial",
            "_view_module": "@jupyter-widgets/base",
            "_model_module_version": "1.5.0",
            "_view_count": null,
            "_view_module_version": "1.2.0",
            "bar_color": null,
            "_model_module": "@jupyter-widgets/controls"
          }
        },
        "35e5575102be4e19bd2905ff014ab07f": {
          "model_module": "@jupyter-widgets/base",
          "model_name": "LayoutModel",
          "state": {
            "_view_name": "LayoutView",
            "grid_template_rows": null,
            "right": null,
            "justify_content": null,
            "_view_module": "@jupyter-widgets/base",
            "overflow": null,
            "_model_module_version": "1.2.0",
            "_view_count": null,
            "flex_flow": null,
            "width": null,
            "min_width": null,
            "border": null,
            "align_items": null,
            "bottom": null,
            "_model_module": "@jupyter-widgets/base",
            "top": null,
            "grid_column": null,
            "overflow_y": null,
            "overflow_x": null,
            "grid_auto_flow": null,
            "grid_area": null,
            "grid_template_columns": null,
            "flex": null,
            "_model_name": "LayoutModel",
            "justify_items": null,
            "grid_row": null,
            "max_height": null,
            "align_content": null,
            "visibility": null,
            "align_self": null,
            "height": null,
            "min_height": null,
            "padding": null,
            "grid_auto_rows": null,
            "grid_gap": null,
            "max_width": null,
            "order": null,
            "_view_module_version": "1.2.0",
            "grid_template_areas": null,
            "object_position": null,
            "object_fit": null,
            "grid_auto_columns": null,
            "margin": null,
            "display": null,
            "left": null
          }
        },
        "7277608431e347cdb965043def5cb279": {
          "model_module": "@jupyter-widgets/controls",
          "model_name": "DescriptionStyleModel",
          "state": {
            "_view_name": "StyleView",
            "_model_name": "DescriptionStyleModel",
            "description_width": "",
            "_view_module": "@jupyter-widgets/base",
            "_model_module_version": "1.5.0",
            "_view_count": null,
            "_view_module_version": "1.2.0",
            "_model_module": "@jupyter-widgets/controls"
          }
        },
        "e7858c2a7c264054b592043a489d934d": {
          "model_module": "@jupyter-widgets/base",
          "model_name": "LayoutModel",
          "state": {
            "_view_name": "LayoutView",
            "grid_template_rows": null,
            "right": null,
            "justify_content": null,
            "_view_module": "@jupyter-widgets/base",
            "overflow": null,
            "_model_module_version": "1.2.0",
            "_view_count": null,
            "flex_flow": null,
            "width": null,
            "min_width": null,
            "border": null,
            "align_items": null,
            "bottom": null,
            "_model_module": "@jupyter-widgets/base",
            "top": null,
            "grid_column": null,
            "overflow_y": null,
            "overflow_x": null,
            "grid_auto_flow": null,
            "grid_area": null,
            "grid_template_columns": null,
            "flex": null,
            "_model_name": "LayoutModel",
            "justify_items": null,
            "grid_row": null,
            "max_height": null,
            "align_content": null,
            "visibility": null,
            "align_self": null,
            "height": null,
            "min_height": null,
            "padding": null,
            "grid_auto_rows": null,
            "grid_gap": null,
            "max_width": null,
            "order": null,
            "_view_module_version": "1.2.0",
            "grid_template_areas": null,
            "object_position": null,
            "object_fit": null,
            "grid_auto_columns": null,
            "margin": null,
            "display": null,
            "left": null
          }
        },
        "8e9e639f3bdd458b83d05f67379eef9b": {
          "model_module": "@jupyter-widgets/controls",
          "model_name": "HBoxModel",
          "state": {
            "_view_name": "HBoxView",
            "_dom_classes": [],
            "_model_name": "HBoxModel",
            "_view_module": "@jupyter-widgets/controls",
            "_model_module_version": "1.5.0",
            "_view_count": null,
            "_view_module_version": "1.5.0",
            "box_style": "",
            "layout": "IPY_MODEL_7ede3adcad7b47ba876f17a862de8f28",
            "_model_module": "@jupyter-widgets/controls",
            "children": [
              "IPY_MODEL_bdf41f0bb8e7400ba00661622ef8b675",
              "IPY_MODEL_3fcecccfbce1459f9070c06e7f30dca0"
            ]
          }
        },
        "7ede3adcad7b47ba876f17a862de8f28": {
          "model_module": "@jupyter-widgets/base",
          "model_name": "LayoutModel",
          "state": {
            "_view_name": "LayoutView",
            "grid_template_rows": null,
            "right": null,
            "justify_content": null,
            "_view_module": "@jupyter-widgets/base",
            "overflow": null,
            "_model_module_version": "1.2.0",
            "_view_count": null,
            "flex_flow": null,
            "width": null,
            "min_width": null,
            "border": null,
            "align_items": null,
            "bottom": null,
            "_model_module": "@jupyter-widgets/base",
            "top": null,
            "grid_column": null,
            "overflow_y": null,
            "overflow_x": null,
            "grid_auto_flow": null,
            "grid_area": null,
            "grid_template_columns": null,
            "flex": null,
            "_model_name": "LayoutModel",
            "justify_items": null,
            "grid_row": null,
            "max_height": null,
            "align_content": null,
            "visibility": null,
            "align_self": null,
            "height": null,
            "min_height": null,
            "padding": null,
            "grid_auto_rows": null,
            "grid_gap": null,
            "max_width": null,
            "order": null,
            "_view_module_version": "1.2.0",
            "grid_template_areas": null,
            "object_position": null,
            "object_fit": null,
            "grid_auto_columns": null,
            "margin": null,
            "display": null,
            "left": null
          }
        },
        "bdf41f0bb8e7400ba00661622ef8b675": {
          "model_module": "@jupyter-widgets/controls",
          "model_name": "FloatProgressModel",
          "state": {
            "_view_name": "ProgressView",
            "style": "IPY_MODEL_55c2fa99ed0f40c882b1acc216618ba0",
            "_dom_classes": [],
            "description": "Downloading: 100%",
            "_model_name": "FloatProgressModel",
            "bar_style": "success",
            "max": 545172724,
            "_view_module": "@jupyter-widgets/controls",
            "_model_module_version": "1.5.0",
            "value": 545172724,
            "_view_count": null,
            "_view_module_version": "1.5.0",
            "orientation": "horizontal",
            "min": 0,
            "description_tooltip": null,
            "_model_module": "@jupyter-widgets/controls",
            "layout": "IPY_MODEL_36df65c6cdf74d0f94b9d98d86b325f2"
          }
        },
        "3fcecccfbce1459f9070c06e7f30dca0": {
          "model_module": "@jupyter-widgets/controls",
          "model_name": "HTMLModel",
          "state": {
            "_view_name": "HTMLView",
            "style": "IPY_MODEL_7c3a0868ac974c2cac571b86ebf2ee48",
            "_dom_classes": [],
            "description": "",
            "_model_name": "HTMLModel",
            "placeholder": "​",
            "_view_module": "@jupyter-widgets/controls",
            "_model_module_version": "1.5.0",
            "value": " 545M/545M [00:09&lt;00:00, 56.3MB/s]",
            "_view_count": null,
            "_view_module_version": "1.5.0",
            "description_tooltip": null,
            "_model_module": "@jupyter-widgets/controls",
            "layout": "IPY_MODEL_0f122ff314ce48468170b8c08e7f81b5"
          }
        },
        "55c2fa99ed0f40c882b1acc216618ba0": {
          "model_module": "@jupyter-widgets/controls",
          "model_name": "ProgressStyleModel",
          "state": {
            "_view_name": "StyleView",
            "_model_name": "ProgressStyleModel",
            "description_width": "initial",
            "_view_module": "@jupyter-widgets/base",
            "_model_module_version": "1.5.0",
            "_view_count": null,
            "_view_module_version": "1.2.0",
            "bar_color": null,
            "_model_module": "@jupyter-widgets/controls"
          }
        },
        "36df65c6cdf74d0f94b9d98d86b325f2": {
          "model_module": "@jupyter-widgets/base",
          "model_name": "LayoutModel",
          "state": {
            "_view_name": "LayoutView",
            "grid_template_rows": null,
            "right": null,
            "justify_content": null,
            "_view_module": "@jupyter-widgets/base",
            "overflow": null,
            "_model_module_version": "1.2.0",
            "_view_count": null,
            "flex_flow": null,
            "width": null,
            "min_width": null,
            "border": null,
            "align_items": null,
            "bottom": null,
            "_model_module": "@jupyter-widgets/base",
            "top": null,
            "grid_column": null,
            "overflow_y": null,
            "overflow_x": null,
            "grid_auto_flow": null,
            "grid_area": null,
            "grid_template_columns": null,
            "flex": null,
            "_model_name": "LayoutModel",
            "justify_items": null,
            "grid_row": null,
            "max_height": null,
            "align_content": null,
            "visibility": null,
            "align_self": null,
            "height": null,
            "min_height": null,
            "padding": null,
            "grid_auto_rows": null,
            "grid_gap": null,
            "max_width": null,
            "order": null,
            "_view_module_version": "1.2.0",
            "grid_template_areas": null,
            "object_position": null,
            "object_fit": null,
            "grid_auto_columns": null,
            "margin": null,
            "display": null,
            "left": null
          }
        },
        "7c3a0868ac974c2cac571b86ebf2ee48": {
          "model_module": "@jupyter-widgets/controls",
          "model_name": "DescriptionStyleModel",
          "state": {
            "_view_name": "StyleView",
            "_model_name": "DescriptionStyleModel",
            "description_width": "",
            "_view_module": "@jupyter-widgets/base",
            "_model_module_version": "1.5.0",
            "_view_count": null,
            "_view_module_version": "1.2.0",
            "_model_module": "@jupyter-widgets/controls"
          }
        },
        "0f122ff314ce48468170b8c08e7f81b5": {
          "model_module": "@jupyter-widgets/base",
          "model_name": "LayoutModel",
          "state": {
            "_view_name": "LayoutView",
            "grid_template_rows": null,
            "right": null,
            "justify_content": null,
            "_view_module": "@jupyter-widgets/base",
            "overflow": null,
            "_model_module_version": "1.2.0",
            "_view_count": null,
            "flex_flow": null,
            "width": null,
            "min_width": null,
            "border": null,
            "align_items": null,
            "bottom": null,
            "_model_module": "@jupyter-widgets/base",
            "top": null,
            "grid_column": null,
            "overflow_y": null,
            "overflow_x": null,
            "grid_auto_flow": null,
            "grid_area": null,
            "grid_template_columns": null,
            "flex": null,
            "_model_name": "LayoutModel",
            "justify_items": null,
            "grid_row": null,
            "max_height": null,
            "align_content": null,
            "visibility": null,
            "align_self": null,
            "height": null,
            "min_height": null,
            "padding": null,
            "grid_auto_rows": null,
            "grid_gap": null,
            "max_width": null,
            "order": null,
            "_view_module_version": "1.2.0",
            "grid_template_areas": null,
            "object_position": null,
            "object_fit": null,
            "grid_auto_columns": null,
            "margin": null,
            "display": null,
            "left": null
          }
        }
      }
    }
  },
  "cells": [
    {
      "cell_type": "markdown",
      "metadata": {
        "id": "JAI6Lh4rPfV3"
      },
      "source": [
        "# **Project Machine Learning for NLP**"
      ]
    },
    {
      "cell_type": "markdown",
      "metadata": {
        "id": "-SCCn52BEaHu"
      },
      "source": [
        "This is the project built by Simon Demouchy and Quentin Deltour for the class ML for NLP. \n",
        "\n",
        "We studied the classification of short job position titles onto categories created by Pole Emploi."
      ]
    },
    {
      "cell_type": "markdown",
      "metadata": {
        "id": "jYmsIV-LQLmF"
      },
      "source": [
        "## Packages"
      ]
    },
    {
      "cell_type": "code",
      "metadata": {
        "id": "s_InFJsFQNz2"
      },
      "source": [
        "import numpy as np\n",
        "import matplotlib.pyplot as plt\n",
        "import pandas as pd\n",
        "import seaborn as sns\n",
        "from tqdm.notebook import tqdm\n",
        "from keras.utils import to_categorical\n",
        "\n",
        "from sklearn.feature_extraction.text import CountVectorizer\n",
        "from sklearn.model_selection import train_test_split\n",
        "from sklearn.preprocessing import OneHotEncoder, OrdinalEncoder\n",
        "from sklearn.feature_extraction.text import TfidfVectorizer\n",
        "from sklearn.ensemble import RandomForestClassifier\n",
        "from sklearn.metrics import confusion_matrix, accuracy_score, precision_score, recall_score\n",
        "from sklearn.pipeline import make_pipeline"
      ],
      "execution_count": 1,
      "outputs": []
    },
    {
      "cell_type": "markdown",
      "metadata": {
        "id": "V6K0H8fdQSlf"
      },
      "source": [
        "## Data "
      ]
    },
    {
      "cell_type": "markdown",
      "metadata": {
        "id": "mSZFScKCXYxc"
      },
      "source": [
        "We load the dataset from the repository on Github."
      ]
    },
    {
      "cell_type": "code",
      "metadata": {
        "id": "0BePqnrlQUO4"
      },
      "source": [
        "url_m = 'https://raw.githubusercontent.com/simondemouchy/NLP_Project/main/metiers.csv'\n",
        "df = pd.read_csv(url_m)"
      ],
      "execution_count": 2,
      "outputs": []
    },
    {
      "cell_type": "markdown",
      "metadata": {
        "id": "WOFgR1KJSUjZ"
      },
      "source": [
        "## Data Exploraiton"
      ]
    },
    {
      "cell_type": "markdown",
      "metadata": {
        "id": "4Z-98-IjXmjo"
      },
      "source": [
        "The following columns are present in the dataset."
      ]
    },
    {
      "cell_type": "code",
      "metadata": {
        "colab": {
          "base_uri": "https://localhost:8080/"
        },
        "id": "7ouD-4lNTbdL",
        "outputId": "c51c4469-e1ef-47c9-ffa1-da6dad785ddd"
      },
      "source": [
        "print(df.columns)\n",
        "print('')\n",
        "print(df.shape)"
      ],
      "execution_count": null,
      "outputs": [
        {
          "output_type": "stream",
          "text": [
            "Index(['code_grand_domaine', 'appelation_grand_domaine', 'code_domaine',\n",
            "       'appelation_domaine', 'code_fiche_rome', 'appelation_fiche_rome',\n",
            "       'code_ogr', 'appelation_metier'],\n",
            "      dtype='object')\n",
            "\n",
            "(11109, 8)\n"
          ],
          "name": "stdout"
        }
      ]
    },
    {
      "cell_type": "markdown",
      "metadata": {
        "id": "iGKDa3JiZAOu"
      },
      "source": [
        "The dataset contains 11109 observations. Let's observe some examples of observations."
      ]
    },
    {
      "cell_type": "code",
      "metadata": {
        "colab": {
          "base_uri": "https://localhost:8080/"
        },
        "id": "w6vONWjETR2q",
        "outputId": "67aaa8c6-8248-4a24-9b79-210aaa6a6560"
      },
      "source": [
        "print(\"Nombre de métiers:\",df.shape[0])\n",
        "df.sample(n=5).drop(columns=['code_domaine','code_fiche_rome','code_ogr'])"
      ],
      "execution_count": null,
      "outputs": [
        {
          "output_type": "stream",
          "text": [
            "Nombre de métiers: 11109\n"
          ],
          "name": "stdout"
        },
        {
          "output_type": "execute_result",
          "data": {
            "text/html": [
              "<div>\n",
              "<style scoped>\n",
              "    .dataframe tbody tr th:only-of-type {\n",
              "        vertical-align: middle;\n",
              "    }\n",
              "\n",
              "    .dataframe tbody tr th {\n",
              "        vertical-align: top;\n",
              "    }\n",
              "\n",
              "    .dataframe thead th {\n",
              "        text-align: right;\n",
              "    }\n",
              "</style>\n",
              "<table border=\"1\" class=\"dataframe\">\n",
              "  <thead>\n",
              "    <tr style=\"text-align: right;\">\n",
              "      <th></th>\n",
              "      <th>code_grand_domaine</th>\n",
              "      <th>appelation_grand_domaine</th>\n",
              "      <th>appelation_domaine</th>\n",
              "      <th>appelation_fiche_rome</th>\n",
              "      <th>appelation_metier</th>\n",
              "    </tr>\n",
              "  </thead>\n",
              "  <tbody>\n",
              "    <tr>\n",
              "      <th>5159</th>\n",
              "      <td>H</td>\n",
              "      <td>Industrie</td>\n",
              "      <td>Cuir et textile</td>\n",
              "      <td>Conduite de machine de fabrication de produits...</td>\n",
              "      <td>Conducteur / Conductrice de machines de fabric...</td>\n",
              "    </tr>\n",
              "    <tr>\n",
              "      <th>7363</th>\n",
              "      <td>J</td>\n",
              "      <td>Santé</td>\n",
              "      <td>Praticiens médico-techniques</td>\n",
              "      <td>Pharmacie</td>\n",
              "      <td>Pharmacien / Pharmacienne</td>\n",
              "    </tr>\n",
              "    <tr>\n",
              "      <th>1680</th>\n",
              "      <td>D</td>\n",
              "      <td>Commerce, Vente et Grande distribution</td>\n",
              "      <td>Force de vente</td>\n",
              "      <td>Relation commerciale grands comptes et entrepr...</td>\n",
              "      <td>Conseiller commercial / Conseillère commercial...</td>\n",
              "    </tr>\n",
              "    <tr>\n",
              "      <th>9216</th>\n",
              "      <td>L</td>\n",
              "      <td>Spectacle</td>\n",
              "      <td>Artistes - interprètes du spectacle</td>\n",
              "      <td>Art dramatique</td>\n",
              "      <td>Figurant / Figurante</td>\n",
              "    </tr>\n",
              "    <tr>\n",
              "      <th>3507</th>\n",
              "      <td>G</td>\n",
              "      <td>Hôtellerie-Restauration, Tourisme, Loisirs et ...</td>\n",
              "      <td>Animation d'activités de loisirs</td>\n",
              "      <td>Éducation en activités sportives</td>\n",
              "      <td>Moniteur / Monitrice de fitness musculation</td>\n",
              "    </tr>\n",
              "  </tbody>\n",
              "</table>\n",
              "</div>"
            ],
            "text/plain": [
              "     code_grand_domaine  ...                                  appelation_metier\n",
              "5159                  H  ...  Conducteur / Conductrice de machines de fabric...\n",
              "7363                  J  ...                          Pharmacien / Pharmacienne\n",
              "1680                  D  ...  Conseiller commercial / Conseillère commercial...\n",
              "9216                  L  ...                               Figurant / Figurante\n",
              "3507                  G  ...        Moniteur / Monitrice de fitness musculation\n",
              "\n",
              "[5 rows x 5 columns]"
            ]
          },
          "metadata": {
            "tags": []
          },
          "execution_count": 4
        }
      ]
    },
    {
      "cell_type": "markdown",
      "metadata": {
        "id": "mYPud7ryXtu8"
      },
      "source": [
        "We see that each row corresponds to a single job, and at every job is associated a \"fiche rome\", then a \"domaine\" and finally a \"grand domaine\". "
      ]
    },
    {
      "cell_type": "markdown",
      "metadata": {
        "id": "cXMIt2NyYDAb"
      },
      "source": [
        "We can observe what are the attributes of the column \"grand domaine\"."
      ]
    },
    {
      "cell_type": "code",
      "metadata": {
        "colab": {
          "base_uri": "https://localhost:8080/"
        },
        "id": "iIz0guVD0wmx",
        "outputId": "63b4d2b7-325d-46ad-9c39-ac721133503c"
      },
      "source": [
        "df['appelation_grand_domaine'].value_counts()"
      ],
      "execution_count": null,
      "outputs": [
        {
          "output_type": "execute_result",
          "data": {
            "text/plain": [
              "Industrie                                                                     2685\n",
              "Services à la personne et à la collectivité                                   1554\n",
              "Support à l'entreprise                                                         937\n",
              "Construction, Bâtiment et Travaux publics                                      787\n",
              "Installation et Maintenance                                                    710\n",
              "Commerce, Vente et Grande distribution                                         665\n",
              "Transport et Logistique                                                        606\n",
              "Communication, Média et Multimédia                                             601\n",
              "Agriculture et Pêche, Espaces naturels et Espaces verts, Soins aux animaux     589\n",
              "Hôtellerie-Restauration, Tourisme, Loisirs et Animation                        546\n",
              "Spectacle                                                                      463\n",
              "Banque, Assurance, Immobilier                                                  363\n",
              "Arts et Façonnage d'ouvrages d'art                                             347\n",
              "Santé                                                                          256\n",
              "Name: appelation_grand_domaine, dtype: int64"
            ]
          },
          "metadata": {
            "tags": []
          },
          "execution_count": 5
        }
      ]
    },
    {
      "cell_type": "markdown",
      "metadata": {
        "id": "HVcYncQZYL-B"
      },
      "source": [
        "There are 14 \"grand domaines\". These 14 \"grand domaines\" are supposed to cover the entire scope of possible jobs in our society."
      ]
    },
    {
      "cell_type": "markdown",
      "metadata": {
        "id": "MMqXXNCoYZ8i"
      },
      "source": [
        "Inside every \"grand domaine\", we can find several \"domaine\", for instance, let's see what are the \"domaine\" related to the \"grand domaine\" \"Industrie\" and \"Santé\"."
      ]
    },
    {
      "cell_type": "code",
      "metadata": {
        "colab": {
          "base_uri": "https://localhost:8080/"
        },
        "id": "hU4c8IhE3fJB",
        "outputId": "7cf5da76-868b-4669-bb66-55bc2ba273b0"
      },
      "source": [
        "df[df['appelation_grand_domaine'] == 'Industrie']['appelation_domaine'].value_counts()"
      ],
      "execution_count": null,
      "outputs": [
        {
          "output_type": "execute_result",
          "data": {
            "text/plain": [
              "Mécanique, travail des métaux et outillage                                       480\n",
              "Conception, recherche, études et développement                                   374\n",
              "Cuir et textile                                                                  333\n",
              "Bois                                                                             241\n",
              "Qualité et analyses industrielles                                                229\n",
              "Direction, encadrement et pilotage de fabrication et production industrielles    183\n",
              "Méthodes et gestion industrielles                                                129\n",
              "Traitements thermiques et traitements de surfaces                                110\n",
              "Electronique et électricité                                                       92\n",
              "Hygiène Sécurité Environnement -HSE- industriels                                  84\n",
              "Plastique, caoutchouc                                                             79\n",
              "Préparation et conditionnement                                                    75\n",
              "Matériaux de construction, céramique et verre                                     73\n",
              "Alimentaire                                                                       71\n",
              "Papier et carton                                                                  43\n",
              "Energie                                                                           33\n",
              "Chimie et pharmacie                                                               31\n",
              "Affaires et support technique client                                              25\n",
              "Name: appelation_domaine, dtype: int64"
            ]
          },
          "metadata": {
            "tags": []
          },
          "execution_count": 6
        }
      ]
    },
    {
      "cell_type": "code",
      "metadata": {
        "colab": {
          "base_uri": "https://localhost:8080/"
        },
        "id": "QKbPlOl93nJw",
        "outputId": "1f89a5ab-0a27-4d89-c4aa-9501ca527a4d"
      },
      "source": [
        "df[df['appelation_grand_domaine'] == 'Santé']['appelation_domaine'].value_counts()"
      ],
      "execution_count": null,
      "outputs": [
        {
          "output_type": "execute_result",
          "data": {
            "text/plain": [
              "Rééducation et appareillage         66\n",
              "Soins paramédicaux                  65\n",
              "Praticiens médicaux                 63\n",
              "Professionnels médico-techniques    48\n",
              "Praticiens médico-techniques        14\n",
              "Name: appelation_domaine, dtype: int64"
            ]
          },
          "metadata": {
            "tags": []
          },
          "execution_count": 7
        }
      ]
    },
    {
      "cell_type": "code",
      "metadata": {
        "colab": {
          "base_uri": "https://localhost:8080/"
        },
        "id": "dw55u_EfnGTG",
        "outputId": "fd5c05f4-3417-401e-d7c0-97bb303ca66f"
      },
      "source": [
        "print(\"There are {} grands domaines.\".format(df['appelation_grand_domaine'].nunique()))\n",
        "print(\"There are {} domaines.\".format(df['appelation_domaine'].nunique()))\n",
        "print(\"There are {} domaines ROME.\".format(df['appelation_fiche_rome'].nunique()))\n",
        "print(\"There are {} jobs.\".format(df['appelation_metier'].nunique()))"
      ],
      "execution_count": null,
      "outputs": [
        {
          "output_type": "stream",
          "text": [
            "There are 14 grands domaines.\n",
            "There are 110 domaines.\n",
            "There are 532 domaines ROME.\n",
            "There are 11109 jobs.\n"
          ],
          "name": "stdout"
        }
      ]
    },
    {
      "cell_type": "markdown",
      "metadata": {
        "id": "KK6t1oKuxWFA"
      },
      "source": [
        "Also, we have noticed, that when we duplicate the jobs where there are the masculine and the feminine, we get a better score. However, we are not totally sure that this processing is not like cheating, because we artificially almost double the size of the dataset. But we have decided to add this transformation because our goal is to reach the best accuracy atteinable."
      ]
    },
    {
      "cell_type": "code",
      "metadata": {
        "id": "_mS5fHmqyUNX"
      },
      "source": [
        "def get_masculin(text):\n",
        "  L = text.split(' ')\n",
        "  if '/' in L:\n",
        "    i = L.index('/')\n",
        "    del L[i:i+2]\n",
        "    return ' '.join(L)\n",
        "  else:\n",
        "    return text\n",
        "\n",
        "def get_feminin(text):\n",
        "  L = text.split(' ')\n",
        "  if '/' in L:\n",
        "    i = L.index('/')\n",
        "    del L[i-1:i+1]\n",
        "    return ' '.join(L)\n",
        "  else:\n",
        "    return text"
      ],
      "execution_count": 3,
      "outputs": []
    },
    {
      "cell_type": "code",
      "metadata": {
        "colab": {
          "base_uri": "https://localhost:8080/"
        },
        "id": "LR2AJdCNyjpX",
        "outputId": "99e4bada-732d-48be-fd27-ff9190d8d390"
      },
      "source": [
        "df_m = df.copy()\n",
        "df_f = df.copy()\n",
        "\n",
        "df_m['appelation_metier'] = df['appelation_metier'].apply(get_masculin)\n",
        "df_f['appelation_metier'] = df['appelation_metier'].apply(get_feminin)\n",
        "neutral_job = list(pd.concat([df_m, df_f])[pd.concat([df_m, df_f]).duplicated(subset=['appelation_metier'])]['appelation_metier'])\n",
        "df_f = df_f[~df_f['appelation_metier'].isin(neutral_job)]\n",
        "df = pd.concat([df_m, df_f])\n",
        "df.shape"
      ],
      "execution_count": 4,
      "outputs": [
        {
          "output_type": "execute_result",
          "data": {
            "text/plain": [
              "(19845, 8)"
            ]
          },
          "metadata": {
            "tags": []
          },
          "execution_count": 4
        }
      ]
    },
    {
      "cell_type": "code",
      "metadata": {
        "id": "rNQymVHO92aK"
      },
      "source": [
        "df['appelation_metier'] = df['appelation_metier'].str.lower()"
      ],
      "execution_count": 5,
      "outputs": []
    },
    {
      "cell_type": "markdown",
      "metadata": {
        "id": "zeebA02z5m3I"
      },
      "source": [
        "## **First Baseline Model**"
      ]
    },
    {
      "cell_type": "markdown",
      "metadata": {
        "id": "u9DK5rLAaLA0"
      },
      "source": [
        "First of all, in order to check the potential of this task, we implement a baseline modes by using a scikit-learn Vectorizer and a Random Forest."
      ]
    },
    {
      "cell_type": "markdown",
      "metadata": {
        "id": "C-SVbqpbn00E"
      },
      "source": [
        "### Grand Domaine"
      ]
    },
    {
      "cell_type": "code",
      "metadata": {
        "id": "6O1o4leiBH9L"
      },
      "source": [
        "X = df['appelation_metier'] \n",
        "y = OrdinalEncoder().fit_transform(df['code_grand_domaine'].values.reshape(-1,1))\n",
        "\n",
        "X_train, X_test, y_train, y_test = train_test_split(X, y, test_size=0.2, random_state=42)\n",
        "y_train = to_categorical(y_train)"
      ],
      "execution_count": null,
      "outputs": []
    },
    {
      "cell_type": "code",
      "metadata": {
        "colab": {
          "base_uri": "https://localhost:8080/"
        },
        "id": "lheDA1rLPM6u",
        "outputId": "b9df9b0f-0b87-4a4c-b769-c1d56db7a8f1"
      },
      "source": [
        "baseline_model = make_pipeline(\n",
        "        TfidfVectorizer(min_df=3, max_df=0.8, ngram_range=(1, 2)),\n",
        "        RandomForestClassifier(),\n",
        "    )\n",
        "baseline_model.fit(X_train, y_train)"
      ],
      "execution_count": null,
      "outputs": [
        {
          "output_type": "execute_result",
          "data": {
            "text/plain": [
              "Pipeline(memory=None,\n",
              "         steps=[('tfidfvectorizer',\n",
              "                 TfidfVectorizer(analyzer='word', binary=False,\n",
              "                                 decode_error='strict',\n",
              "                                 dtype=<class 'numpy.float64'>,\n",
              "                                 encoding='utf-8', input='content',\n",
              "                                 lowercase=True, max_df=0.8, max_features=None,\n",
              "                                 min_df=3, ngram_range=(1, 2), norm='l2',\n",
              "                                 preprocessor=None, smooth_idf=True,\n",
              "                                 stop_words=None, strip_accents=None,\n",
              "                                 sublinear_tf=False,\n",
              "                                 token...\n",
              "                 RandomForestClassifier(bootstrap=True, ccp_alpha=0.0,\n",
              "                                        class_weight=None, criterion='gini',\n",
              "                                        max_depth=None, max_features='auto',\n",
              "                                        max_leaf_nodes=None, max_samples=None,\n",
              "                                        min_impurity_decrease=0.0,\n",
              "                                        min_impurity_split=None,\n",
              "                                        min_samples_leaf=1, min_samples_split=2,\n",
              "                                        min_weight_fraction_leaf=0.0,\n",
              "                                        n_estimators=100, n_jobs=None,\n",
              "                                        oob_score=False, random_state=None,\n",
              "                                        verbose=0, warm_start=False))],\n",
              "         verbose=False)"
            ]
          },
          "metadata": {
            "tags": []
          },
          "execution_count": 13
        }
      ]
    },
    {
      "cell_type": "code",
      "metadata": {
        "colab": {
          "base_uri": "https://localhost:8080/"
        },
        "id": "6-mYqA9ePfuh",
        "outputId": "cf3efa0e-0aaf-4021-f9c6-8c55299ccb8a"
      },
      "source": [
        "baseline_model.score(X_test, to_categorical(y_test))"
      ],
      "execution_count": null,
      "outputs": [
        {
          "output_type": "execute_result",
          "data": {
            "text/plain": [
              "0.6832955404383976"
            ]
          },
          "metadata": {
            "tags": []
          },
          "execution_count": 14
        }
      ]
    },
    {
      "cell_type": "markdown",
      "metadata": {
        "id": "M630vqsOaVCT"
      },
      "source": [
        "We see that with this straightforward model, we manage to get an accuracy of $69\\%$.\n",
        "\n",
        "This result encourages us to build more complex model in order to increase this score."
      ]
    },
    {
      "cell_type": "markdown",
      "metadata": {
        "id": "MQqHh88dn7d8"
      },
      "source": [
        "### Domaine"
      ]
    },
    {
      "cell_type": "code",
      "metadata": {
        "id": "L43nu5CLm5O-"
      },
      "source": [
        "y = OrdinalEncoder().fit_transform(df['code_domaine'].values.reshape(-1,1))\n",
        "\n",
        "X_train, X_test, y_train, y_test = train_test_split(X, y, test_size=0.2, random_state=42)\n",
        "y_train = to_categorical(y_train)"
      ],
      "execution_count": null,
      "outputs": []
    },
    {
      "cell_type": "code",
      "metadata": {
        "colab": {
          "base_uri": "https://localhost:8080/"
        },
        "id": "Lhh9bqyvnDGU",
        "outputId": "cdcc966f-bfc1-49ae-ded9-64dd116ba7f7"
      },
      "source": [
        "baseline_model_domaine = make_pipeline(\n",
        "        TfidfVectorizer(min_df=3, max_df=0.8, ngram_range=(1, 2)),\n",
        "        RandomForestClassifier(),\n",
        "    )\n",
        "baseline_model_domaine.fit(X_train, y_train)"
      ],
      "execution_count": null,
      "outputs": [
        {
          "output_type": "execute_result",
          "data": {
            "text/plain": [
              "Pipeline(memory=None,\n",
              "         steps=[('tfidfvectorizer',\n",
              "                 TfidfVectorizer(analyzer='word', binary=False,\n",
              "                                 decode_error='strict',\n",
              "                                 dtype=<class 'numpy.float64'>,\n",
              "                                 encoding='utf-8', input='content',\n",
              "                                 lowercase=True, max_df=0.8, max_features=None,\n",
              "                                 min_df=3, ngram_range=(1, 2), norm='l2',\n",
              "                                 preprocessor=None, smooth_idf=True,\n",
              "                                 stop_words=None, strip_accents=None,\n",
              "                                 sublinear_tf=False,\n",
              "                                 token...\n",
              "                 RandomForestClassifier(bootstrap=True, ccp_alpha=0.0,\n",
              "                                        class_weight=None, criterion='gini',\n",
              "                                        max_depth=None, max_features='auto',\n",
              "                                        max_leaf_nodes=None, max_samples=None,\n",
              "                                        min_impurity_decrease=0.0,\n",
              "                                        min_impurity_split=None,\n",
              "                                        min_samples_leaf=1, min_samples_split=2,\n",
              "                                        min_weight_fraction_leaf=0.0,\n",
              "                                        n_estimators=100, n_jobs=None,\n",
              "                                        oob_score=False, random_state=None,\n",
              "                                        verbose=0, warm_start=False))],\n",
              "         verbose=False)"
            ]
          },
          "metadata": {
            "tags": []
          },
          "execution_count": 16
        }
      ]
    },
    {
      "cell_type": "code",
      "metadata": {
        "colab": {
          "base_uri": "https://localhost:8080/"
        },
        "id": "l0u0CjWKnH8m",
        "outputId": "0cbf57bf-f34d-41c0-9947-8e55e6243ed0"
      },
      "source": [
        "baseline_model_domaine.score(X_test, to_categorical(y_test))"
      ],
      "execution_count": null,
      "outputs": [
        {
          "output_type": "execute_result",
          "data": {
            "text/plain": [
              "0.6067019400352733"
            ]
          },
          "metadata": {
            "tags": []
          },
          "execution_count": 17
        }
      ]
    },
    {
      "cell_type": "markdown",
      "metadata": {
        "id": "ISZheUbPoCvO"
      },
      "source": [
        "### Fiche ROME"
      ]
    },
    {
      "cell_type": "code",
      "metadata": {
        "id": "k-pDW0_9oAFl"
      },
      "source": [
        "y = OrdinalEncoder().fit_transform(df['code_fiche_rome'].values.reshape(-1,1))\n",
        "\n",
        "X_train, X_test, y_train, y_test = train_test_split(X, y, test_size=0.2, random_state=42)\n",
        "y_train = to_categorical(y_train)"
      ],
      "execution_count": null,
      "outputs": []
    },
    {
      "cell_type": "code",
      "metadata": {
        "colab": {
          "base_uri": "https://localhost:8080/"
        },
        "id": "lVs0j_OZoEbu",
        "outputId": "acba3df0-f556-4466-cda4-928dabd9f071"
      },
      "source": [
        "baseline_model_rome = make_pipeline(\n",
        "        TfidfVectorizer(min_df=3, max_df=0.8, ngram_range=(1, 2)),\n",
        "        RandomForestClassifier(),\n",
        "    )\n",
        "baseline_model_rome.fit(X_train, y_train)"
      ],
      "execution_count": null,
      "outputs": [
        {
          "output_type": "execute_result",
          "data": {
            "text/plain": [
              "Pipeline(memory=None,\n",
              "         steps=[('tfidfvectorizer',\n",
              "                 TfidfVectorizer(analyzer='word', binary=False,\n",
              "                                 decode_error='strict',\n",
              "                                 dtype=<class 'numpy.float64'>,\n",
              "                                 encoding='utf-8', input='content',\n",
              "                                 lowercase=True, max_df=0.8, max_features=None,\n",
              "                                 min_df=3, ngram_range=(1, 2), norm='l2',\n",
              "                                 preprocessor=None, smooth_idf=True,\n",
              "                                 stop_words=None, strip_accents=None,\n",
              "                                 sublinear_tf=False,\n",
              "                                 token...\n",
              "                 RandomForestClassifier(bootstrap=True, ccp_alpha=0.0,\n",
              "                                        class_weight=None, criterion='gini',\n",
              "                                        max_depth=None, max_features='auto',\n",
              "                                        max_leaf_nodes=None, max_samples=None,\n",
              "                                        min_impurity_decrease=0.0,\n",
              "                                        min_impurity_split=None,\n",
              "                                        min_samples_leaf=1, min_samples_split=2,\n",
              "                                        min_weight_fraction_leaf=0.0,\n",
              "                                        n_estimators=100, n_jobs=None,\n",
              "                                        oob_score=False, random_state=None,\n",
              "                                        verbose=0, warm_start=False))],\n",
              "         verbose=False)"
            ]
          },
          "metadata": {
            "tags": []
          },
          "execution_count": 19
        }
      ]
    },
    {
      "cell_type": "code",
      "metadata": {
        "colab": {
          "base_uri": "https://localhost:8080/"
        },
        "id": "g38wzx3JoIqw",
        "outputId": "aeede7bc-47e0-4792-e750-287a14b7379d"
      },
      "source": [
        "baseline_model_rome.score(X_test, to_categorical(y_test))"
      ],
      "execution_count": null,
      "outputs": [
        {
          "output_type": "execute_result",
          "data": {
            "text/plain": [
              "0.5313681027966742"
            ]
          },
          "metadata": {
            "tags": []
          },
          "execution_count": 20
        }
      ]
    },
    {
      "cell_type": "markdown",
      "metadata": {
        "id": "KF5qreiVFXA8"
      },
      "source": [
        "## **CBOW Model**"
      ]
    },
    {
      "cell_type": "markdown",
      "metadata": {
        "id": "g5UhZ1xPa_l_"
      },
      "source": [
        "In this section, we implement a Continuous Bag-of-Word."
      ]
    },
    {
      "cell_type": "code",
      "metadata": {
        "id": "_ZiMy9_E9ZQP"
      },
      "source": [
        "X = df['appelation_metier'] \n",
        "y = OrdinalEncoder().fit_transform(df['code_grand_domaine'].values.reshape(-1,1))\n",
        "\n",
        "X_train, X_test, y_train, y_test = train_test_split(X, y, test_size=0.15, random_state=42)\n",
        "y_train = to_categorical(y_train)"
      ],
      "execution_count": null,
      "outputs": []
    },
    {
      "cell_type": "code",
      "metadata": {
        "colab": {
          "base_uri": "https://localhost:8080/"
        },
        "id": "llj0lq7oFXxf",
        "outputId": "6cca4a06-7475-4868-b22f-6f692c9343d1"
      },
      "source": [
        "from tensorflow.keras.preprocessing.text import Tokenizer\n",
        "\n",
        "tokenizer = Tokenizer(char_level=False)\n",
        "tokenizer.fit_on_texts(X_train)\n",
        "sequences = tokenizer.texts_to_sequences(X_train)\n",
        "sequences_test = tokenizer.texts_to_sequences(X_test)\n",
        "\n",
        "word_index = tokenizer.word_index\n",
        "print('We find %s unique tokens on the training dataset.' % len(word_index))"
      ],
      "execution_count": null,
      "outputs": [
        {
          "output_type": "stream",
          "text": [
            "We find 6116 unique tokens on the training dataset.\n"
          ],
          "name": "stdout"
        }
      ]
    },
    {
      "cell_type": "code",
      "metadata": {
        "colab": {
          "base_uri": "https://localhost:8080/"
        },
        "id": "dfLEjpt8FaCM",
        "outputId": "5e7b83cc-fe06-4cb2-8350-06a243f660fb"
      },
      "source": [
        "seq_length = [len(s) for s in sequences]\n",
        "print(\"Average length: %0.1f\" % np.mean(seq_length))\n",
        "print(\"Max length: %d\" % max(seq_length))"
      ],
      "execution_count": null,
      "outputs": [
        {
          "output_type": "stream",
          "text": [
            "Average length: 4.2\n",
            "Max length: 16\n"
          ],
          "name": "stdout"
        }
      ]
    },
    {
      "cell_type": "markdown",
      "metadata": {
        "id": "MgwVziHdbglo"
      },
      "source": [
        "As expected, the lenght of the job's title is quite short."
      ]
    },
    {
      "cell_type": "code",
      "metadata": {
        "colab": {
          "base_uri": "https://localhost:8080/"
        },
        "id": "Ca2Uf932FeM6",
        "outputId": "8303b178-2a90-4e3a-c020-cbac4f804761"
      },
      "source": [
        "from tensorflow.keras.preprocessing.sequence import pad_sequences\n",
        "\n",
        "MAX_SEQUENCE_LENGTH = max(seq_length)\n",
        "\n",
        "#We pad all the sequences in order to have compatible sentences.\n",
        "X_train = pad_sequences(sequences, maxlen=MAX_SEQUENCE_LENGTH)\n",
        "X_test = pad_sequences(sequences_test, maxlen=MAX_SEQUENCE_LENGTH)\n",
        "print('Shape of data train tensor:', X_train.shape)\n",
        "print('Shape of data test tensor:', X_test.shape)"
      ],
      "execution_count": null,
      "outputs": [
        {
          "output_type": "stream",
          "text": [
            "Shape of data train tensor: (16868, 16)\n",
            "Shape of data test tensor: (2977, 16)\n"
          ],
          "name": "stdout"
        }
      ]
    },
    {
      "cell_type": "code",
      "metadata": {
        "id": "J8PMFxlPFjUf"
      },
      "source": [
        "from tensorflow.keras.layers import Dense, Input, Flatten\n",
        "from tensorflow.keras.layers import GlobalAveragePooling1D, Embedding\n",
        "from tensorflow.keras.models import Model\n",
        "from tensorflow.keras import optimizers\n",
        "\n",
        "EMBEDDING_DIM = 50\n",
        "N_CLASSES = y_train.shape[1]\n",
        "\n",
        "sequence_input = Input(shape=(MAX_SEQUENCE_LENGTH,), dtype='int32')\n",
        "\n",
        "embedding_layer = Embedding(len(word_index)+1, EMBEDDING_DIM,\n",
        "                            input_length=MAX_SEQUENCE_LENGTH,\n",
        "                            trainable=True)\n",
        "embedded_sequences = embedding_layer(sequence_input)\n",
        "\n",
        "average = GlobalAveragePooling1D()(embedded_sequences)\n",
        "predictions = Dense(N_CLASSES, activation='softmax')(average)\n",
        "\n",
        "cbow_model = Model(sequence_input, predictions)\n",
        "cbow_model.compile(loss='categorical_crossentropy',\n",
        "              optimizer=optimizers.Adam(lr=0.01), metrics=['acc'])"
      ],
      "execution_count": null,
      "outputs": []
    },
    {
      "cell_type": "code",
      "metadata": {
        "colab": {
          "base_uri": "https://localhost:8080/"
        },
        "id": "JlQEgnC2F1w6",
        "outputId": "bdd966f3-d487-42d0-faeb-19ec2fac786e"
      },
      "source": [
        "cbow_model.fit(X_train, y_train, validation_split=0.1,\n",
        "          epochs=5, batch_size=32)"
      ],
      "execution_count": null,
      "outputs": [
        {
          "output_type": "stream",
          "text": [
            "Epoch 1/5\n",
            "475/475 [==============================] - 4s 6ms/step - loss: 1.9223 - acc: 0.4141 - val_loss: 0.6067 - val_acc: 0.8370\n",
            "Epoch 2/5\n",
            "475/475 [==============================] - 2s 5ms/step - loss: 0.4056 - acc: 0.9052 - val_loss: 0.3896 - val_acc: 0.8761\n",
            "Epoch 3/5\n",
            "475/475 [==============================] - 2s 5ms/step - loss: 0.1523 - acc: 0.9692 - val_loss: 0.3300 - val_acc: 0.8915\n",
            "Epoch 4/5\n",
            "475/475 [==============================] - 2s 5ms/step - loss: 0.0685 - acc: 0.9862 - val_loss: 0.3105 - val_acc: 0.8998\n",
            "Epoch 5/5\n",
            "475/475 [==============================] - 2s 5ms/step - loss: 0.0448 - acc: 0.9895 - val_loss: 0.3382 - val_acc: 0.8992\n"
          ],
          "name": "stdout"
        },
        {
          "output_type": "execute_result",
          "data": {
            "text/plain": [
              "<tensorflow.python.keras.callbacks.History at 0x7f4efeb60fd0>"
            ]
          },
          "metadata": {
            "tags": []
          },
          "execution_count": 26
        }
      ]
    },
    {
      "cell_type": "code",
      "metadata": {
        "colab": {
          "base_uri": "https://localhost:8080/"
        },
        "id": "7COSoZXeF5NM",
        "outputId": "cac3f435-7178-41b0-bb0a-cfb0163bea4c"
      },
      "source": [
        "y_pred = np.argmax(cbow_model(X_test), axis=-1).reshape(-1,1)\n",
        "print(\"Test accuracy:\", np.mean(y_pred == y_test))"
      ],
      "execution_count": null,
      "outputs": [
        {
          "output_type": "stream",
          "text": [
            "Test accuracy: 0.9005710446758481\n"
          ],
          "name": "stdout"
        }
      ]
    },
    {
      "cell_type": "markdown",
      "metadata": {
        "id": "aqjxvnBMcNcv"
      },
      "source": [
        "Thanks to this model, we obtain an accuracy of $90\\%$, which represents an overtaking of the baseline model by twenty points. This is a significant increase."
      ]
    },
    {
      "cell_type": "markdown",
      "metadata": {
        "id": "YvW3xAQ6zNEV"
      },
      "source": [
        "We can also check the ability of this model to predict the \"domain\". As it has more different values, we expect the accuracy of the model to drop, but it would be more interesting. "
      ]
    },
    {
      "cell_type": "code",
      "metadata": {
        "id": "GMeZZKmizXj8"
      },
      "source": [
        "domaine = OrdinalEncoder().fit_transform(df['appelation_domaine'].values.reshape(-1,1))\n",
        "X_train, X_test, domaine_train, domaine_test = train_test_split(X, domaine, test_size=0.15, random_state=42)\n",
        "domaine_train = to_categorical(domaine_train)\n",
        "\n",
        "tokenizer = Tokenizer(char_level=False)\n",
        "tokenizer.fit_on_texts(X_train)\n",
        "sequences = tokenizer.texts_to_sequences(X_train)\n",
        "sequences_test = tokenizer.texts_to_sequences(X_test)\n",
        "\n",
        "X_train = pad_sequences(sequences, maxlen=MAX_SEQUENCE_LENGTH)\n",
        "X_test = pad_sequences(sequences_test, maxlen=MAX_SEQUENCE_LENGTH)"
      ],
      "execution_count": null,
      "outputs": []
    },
    {
      "cell_type": "code",
      "metadata": {
        "colab": {
          "base_uri": "https://localhost:8080/"
        },
        "id": "GKJxHW1szyRq",
        "outputId": "5d3f58ab-1c23-4dbc-c7d8-2242d51e27bc"
      },
      "source": [
        "EMBEDDING_DIM = 100\n",
        "N_CLASSES = domaine_train.shape[1]\n",
        "\n",
        "sequence_input = Input(shape=(MAX_SEQUENCE_LENGTH,), dtype='int32')\n",
        "embedding_layer = Embedding(len(word_index)+1, EMBEDDING_DIM,\n",
        "                            input_length=MAX_SEQUENCE_LENGTH,\n",
        "                            trainable=True)\n",
        "embedded_sequences = embedding_layer(sequence_input)\n",
        "\n",
        "average = GlobalAveragePooling1D()(embedded_sequences)\n",
        "predictions = Dense(N_CLASSES, activation='softmax')(average)\n",
        "\n",
        "cbow_model_domaine = Model(sequence_input, predictions)\n",
        "cbow_model_domaine.compile(loss='categorical_crossentropy',\n",
        "              optimizer=optimizers.Adam(lr=0.01), metrics=['acc'])\n",
        "cbow_model_domaine.fit(X_train, domaine_train, validation_split=0.1,\n",
        "          epochs=5, batch_size=32)"
      ],
      "execution_count": null,
      "outputs": [
        {
          "output_type": "stream",
          "text": [
            "Epoch 1/5\n",
            "475/475 [==============================] - 4s 7ms/step - loss: 3.7679 - acc: 0.2035 - val_loss: 1.4293 - val_acc: 0.7172\n",
            "Epoch 2/5\n",
            "475/475 [==============================] - 3s 7ms/step - loss: 0.9734 - acc: 0.8036 - val_loss: 0.7761 - val_acc: 0.8257\n",
            "Epoch 3/5\n",
            "475/475 [==============================] - 3s 7ms/step - loss: 0.3229 - acc: 0.9485 - val_loss: 0.6011 - val_acc: 0.8536\n",
            "Epoch 4/5\n",
            "475/475 [==============================] - 3s 7ms/step - loss: 0.1363 - acc: 0.9816 - val_loss: 0.5490 - val_acc: 0.8702\n",
            "Epoch 5/5\n",
            "475/475 [==============================] - 3s 7ms/step - loss: 0.0642 - acc: 0.9914 - val_loss: 0.5378 - val_acc: 0.8743\n"
          ],
          "name": "stdout"
        },
        {
          "output_type": "execute_result",
          "data": {
            "text/plain": [
              "<tensorflow.python.keras.callbacks.History at 0x7f4efeda7890>"
            ]
          },
          "metadata": {
            "tags": []
          },
          "execution_count": 30
        }
      ]
    },
    {
      "cell_type": "code",
      "metadata": {
        "colab": {
          "base_uri": "https://localhost:8080/"
        },
        "id": "vFlwDRpn0WA0",
        "outputId": "b66844c3-aabb-4351-a78b-d94d24d643d2"
      },
      "source": [
        "domaine_pred = np.argmax(cbow_model_domaine(X_test), axis=-1).reshape(-1,1)\n",
        "print(\"Test accuracy:\", np.mean(domaine_pred == domaine_test))"
      ],
      "execution_count": null,
      "outputs": [
        {
          "output_type": "stream",
          "text": [
            "Test accuracy: 0.8646288209606987\n"
          ],
          "name": "stdout"
        }
      ]
    },
    {
      "cell_type": "markdown",
      "metadata": {
        "id": "kfRYXF5Q07AY"
      },
      "source": [
        "As expected the accuracy is lower but still acceptable given the significant rise of the number of classes (from 14 to 110)"
      ]
    },
    {
      "cell_type": "markdown",
      "metadata": {
        "id": "gxoB9zKU2QLS"
      },
      "source": [
        "Now lets turn to the \"Fiche Rome\". Here the number of classes increases from 110 to 532. \n",
        "\n",
        "Considering the size of our dataset, it might become difficult to get a good score."
      ]
    },
    {
      "cell_type": "code",
      "metadata": {
        "id": "1JLdseaTzdG9"
      },
      "source": [
        "rome = OrdinalEncoder().fit_transform(df['appelation_fiche_rome'].values.reshape(-1,1))\n",
        "X_train, X_test, rome_train, rome_test = train_test_split(X, rome, test_size=0.15, random_state=42)\n",
        "rome_train = to_categorical(rome_train)\n",
        "\n",
        "tokenizer = Tokenizer(char_level=False)\n",
        "tokenizer.fit_on_texts(X_train)\n",
        "sequences = tokenizer.texts_to_sequences(X_train)\n",
        "sequences_test = tokenizer.texts_to_sequences(X_test)\n",
        "\n",
        "X_train = pad_sequences(sequences, maxlen=MAX_SEQUENCE_LENGTH)\n",
        "X_test = pad_sequences(sequences_test, maxlen=MAX_SEQUENCE_LENGTH)"
      ],
      "execution_count": null,
      "outputs": []
    },
    {
      "cell_type": "code",
      "metadata": {
        "colab": {
          "base_uri": "https://localhost:8080/"
        },
        "id": "MnVtmQi81diK",
        "outputId": "a384b1f4-4756-45a3-d796-63e056516943"
      },
      "source": [
        "EMBEDDING_DIM = 100\n",
        "N_CLASSES = rome_train.shape[1]\n",
        "\n",
        "sequence_input = Input(shape=(MAX_SEQUENCE_LENGTH,), dtype='int32')\n",
        "embedding_layer = Embedding(len(word_index)+1, EMBEDDING_DIM,\n",
        "                            input_length=MAX_SEQUENCE_LENGTH,\n",
        "                            trainable=True)\n",
        "embedded_sequences = embedding_layer(sequence_input)\n",
        "\n",
        "average = GlobalAveragePooling1D()(embedded_sequences)\n",
        "predictions = Dense(N_CLASSES, activation='softmax')(average)\n",
        "\n",
        "cbow_model_rome = Model(sequence_input, predictions)\n",
        "cbow_model_rome.compile(loss='categorical_crossentropy',\n",
        "              optimizer=optimizers.Adam(lr=0.01), metrics=['acc'])\n",
        "cbow_model_rome.fit(X_train, rome_train, validation_split=0.1,\n",
        "          epochs=6, batch_size=32)"
      ],
      "execution_count": null,
      "outputs": [
        {
          "output_type": "stream",
          "text": [
            "Epoch 1/6\n",
            "475/475 [==============================] - 4s 7ms/step - loss: 5.7132 - acc: 0.0586 - val_loss: 3.2386 - val_acc: 0.4280\n",
            "Epoch 2/6\n",
            "475/475 [==============================] - 3s 7ms/step - loss: 2.4169 - acc: 0.5560 - val_loss: 1.5870 - val_acc: 0.6823\n",
            "Epoch 3/6\n",
            "475/475 [==============================] - 3s 7ms/step - loss: 0.9207 - acc: 0.8365 - val_loss: 1.1069 - val_acc: 0.7736\n",
            "Epoch 4/6\n",
            "475/475 [==============================] - 3s 7ms/step - loss: 0.3935 - acc: 0.9449 - val_loss: 0.9002 - val_acc: 0.8168\n",
            "Epoch 5/6\n",
            "475/475 [==============================] - 3s 7ms/step - loss: 0.1787 - acc: 0.9863 - val_loss: 0.8168 - val_acc: 0.8340\n",
            "Epoch 6/6\n",
            "475/475 [==============================] - 3s 7ms/step - loss: 0.0807 - acc: 0.9957 - val_loss: 0.7974 - val_acc: 0.8340\n"
          ],
          "name": "stdout"
        },
        {
          "output_type": "execute_result",
          "data": {
            "text/plain": [
              "<tensorflow.python.keras.callbacks.History at 0x7f4efebca250>"
            ]
          },
          "metadata": {
            "tags": []
          },
          "execution_count": 33
        }
      ]
    },
    {
      "cell_type": "code",
      "metadata": {
        "colab": {
          "base_uri": "https://localhost:8080/"
        },
        "id": "VPZZVy0r1qA7",
        "outputId": "41e8a7de-71ee-4f21-d3e2-af1046cb79de"
      },
      "source": [
        "rome_pred = np.argmax(cbow_model_rome(X_test), axis=-1).reshape(-1,1)\n",
        "print(\"Test accuracy:\", np.mean(rome_pred == rome_test))"
      ],
      "execution_count": null,
      "outputs": [
        {
          "output_type": "stream",
          "text": [
            "Test accuracy: 0.8374202216996977\n"
          ],
          "name": "stdout"
        }
      ]
    },
    {
      "cell_type": "markdown",
      "metadata": {
        "id": "cu9u3Cc415NV"
      },
      "source": [
        "We could make the same remark than for \"domaine\" : the accuracy dropped due to the high increase in the number of classes."
      ]
    },
    {
      "cell_type": "markdown",
      "metadata": {
        "id": "NPExyoIVY6IB"
      },
      "source": [
        "## **Transformer**"
      ]
    },
    {
      "cell_type": "code",
      "metadata": {
        "id": "7pCfty-rE0Ox"
      },
      "source": [
        "%pip install -q transformers==2.11.0\n",
        "%pip install sentencepiece\n",
        "%pip install fairseq"
      ],
      "execution_count": null,
      "outputs": []
    },
    {
      "cell_type": "code",
      "metadata": {
        "id": "TkrJDbdGYA6r"
      },
      "source": [
        "import fairseq"
      ],
      "execution_count": 7,
      "outputs": []
    },
    {
      "cell_type": "markdown",
      "metadata": {
        "id": "M5dhKMY-A9mj"
      },
      "source": [
        "In this section, we need to split the dataset into three datasets."
      ]
    },
    {
      "cell_type": "code",
      "metadata": {
        "id": "fHleX3kaa4tn"
      },
      "source": [
        "X = df['appelation_metier']\n",
        "y = OrdinalEncoder().fit_transform(df['code_grand_domaine'].values.reshape(-1,1))\n",
        "\n",
        "X, X_test, y, y_test = train_test_split(X, y, test_size=0.15, random_state=42)\n",
        "X_train, X_valid, y_train, y_valid = train_test_split(X, y, test_size=0.2, random_state=42)"
      ],
      "execution_count": 8,
      "outputs": []
    },
    {
      "cell_type": "code",
      "metadata": {
        "colab": {
          "base_uri": "https://localhost:8080/",
          "height": 122,
          "referenced_widgets": [
            "1a7a143d61c84c48884662cfcad65ce5",
            "1717487f5600432d878c2d34b078ef36",
            "ab7abe0324cc4ba99c22df37c4e88aac",
            "4fd330dbffb84acf827a4c650956d456",
            "392a9eb40ffb447face476c1e6afe763",
            "dc1aa7f4271d4ff4bb380f17e9c2f2d3",
            "ac72c893093d45749122a647543067a0",
            "e165fb73445c4122930ac6474ede2995"
          ]
        },
        "id": "_zR0bwvmY8N3",
        "outputId": "d8d11835-fd9a-4793-fa18-5766e4642b54"
      },
      "source": [
        "from transformers import CamembertTokenizer\n",
        "\n",
        "model_name = \"camembert-base\"\n",
        "camembert_tokenizer = CamembertTokenizer.from_pretrained(model_name)"
      ],
      "execution_count": 9,
      "outputs": [
        {
          "output_type": "display_data",
          "data": {
            "application/vnd.jupyter.widget-view+json": {
              "model_id": "1a7a143d61c84c48884662cfcad65ce5",
              "version_minor": 0,
              "version_major": 2
            },
            "text/plain": [
              "HBox(children=(FloatProgress(value=0.0, description='Downloading', max=810912.0, style=ProgressStyle(descripti…"
            ]
          },
          "metadata": {
            "tags": []
          }
        },
        {
          "output_type": "stream",
          "text": [
            "\n"
          ],
          "name": "stdout"
        },
        {
          "output_type": "stream",
          "text": [
            "/usr/local/lib/python3.7/dist-packages/transformers/tokenization_utils.py:831: FutureWarning: Parameter max_len is deprecated and will be removed in a future release. Use model_max_length instead.\n",
            "  category=FutureWarning,\n"
          ],
          "name": "stderr"
        }
      ]
    },
    {
      "cell_type": "markdown",
      "metadata": {
        "id": "-_xPHg97qwsg"
      },
      "source": [
        "Let's inspect the tokens created by CamemBert."
      ]
    },
    {
      "cell_type": "code",
      "metadata": {
        "colab": {
          "base_uri": "https://localhost:8080/"
        },
        "id": "T519o6iCcx8o",
        "outputId": "819e3ec4-c07c-490e-dac1-3647c33b5378"
      },
      "source": [
        "print(df['appelation_metier'].iloc[0])\n",
        "print(camembert_tokenizer.tokenize(df['appelation_metier'].iloc[0]))"
      ],
      "execution_count": null,
      "outputs": [
        {
          "output_type": "stream",
          "text": [
            "chauffeur de machines agricoles\n",
            "['▁chauffeur', '▁de', '▁machines', '▁agricoles']\n"
          ],
          "name": "stdout"
        }
      ]
    },
    {
      "cell_type": "code",
      "metadata": {
        "colab": {
          "base_uri": "https://localhost:8080/",
          "height": 300
        },
        "id": "p2Olmslyl1x7",
        "outputId": "d0a762d8-60f8-44c2-b6b9-9b9841bdc7c9"
      },
      "source": [
        "train_sequence_lengths = [len(camembert_tokenizer.encode(job))\n",
        "                          for job in df['appelation_metier']]\n",
        "print(\"Average length: %0.1f\" % np.mean(train_sequence_lengths))\n",
        "print(\"Max length: %d\" % max(train_sequence_lengths))\n",
        "plt.hist(train_sequence_lengths, bins=30)\n",
        "plt.show()"
      ],
      "execution_count": 10,
      "outputs": [
        {
          "output_type": "stream",
          "text": [
            "Average length: 8.2\n",
            "Max length: 29\n"
          ],
          "name": "stdout"
        },
        {
          "output_type": "display_data",
          "data": {
            "image/png": "[encoded data removed]",
            "text/plain": [
              "<Figure size 432x288 with 1 Axes>"
            ]
          },
          "metadata": {
            "tags": [],
            "needs_background": "light"
          }
        }
      ]
    },
    {
      "cell_type": "markdown",
      "metadata": {
        "id": "RJE8SCoirlVj"
      },
      "source": [
        "The sequences are longer than the ones in the CBOW model."
      ]
    },
    {
      "cell_type": "code",
      "metadata": {
        "id": "nDpIZtTOk7op"
      },
      "source": [
        "def encode_dataset(tokenizer, text_sequences, max_length):\n",
        "    token_ids = np.zeros(shape=(len(text_sequences), max_length),\n",
        "                         dtype=np.int32)\n",
        "    for i, text_sequence in enumerate(text_sequences):\n",
        "        encoded = tokenizer.encode(text_sequence)\n",
        "        token_ids[i, 0:len(encoded)] = encoded\n",
        "    attention_masks = (token_ids != 0).astype(np.int32)\n",
        "    return {\"input_ids\": token_ids, \"attention_masks\": attention_masks}"
      ],
      "execution_count": 11,
      "outputs": []
    },
    {
      "cell_type": "code",
      "metadata": {
        "id": "FwiroiOllrqz"
      },
      "source": [
        "encoded_train = encode_dataset(camembert_tokenizer, X_train, 35)\n",
        "encoded_valid = encode_dataset(camembert_tokenizer, X_valid, 35)\n",
        "encoded_test = encode_dataset(camembert_tokenizer, X_test, 35)"
      ],
      "execution_count": 12,
      "outputs": []
    },
    {
      "cell_type": "code",
      "metadata": {
        "id": "a94VI2JNEca0",
        "colab": {
          "base_uri": "https://localhost:8080/",
          "height": 116,
          "referenced_widgets": [
            "915a06018386439cb1291ae624581b54",
            "6cfb3b922bc44200aa690e319a2acc88",
            "b3453f36e7a44f60a336cde946f76346",
            "b607401259f94fb6ac36e82221110504",
            "a210670f0f0b460e9b10427284c45832",
            "35e5575102be4e19bd2905ff014ab07f",
            "7277608431e347cdb965043def5cb279",
            "e7858c2a7c264054b592043a489d934d",
            "8e9e639f3bdd458b83d05f67379eef9b",
            "7ede3adcad7b47ba876f17a862de8f28",
            "bdf41f0bb8e7400ba00661622ef8b675",
            "3fcecccfbce1459f9070c06e7f30dca0",
            "55c2fa99ed0f40c882b1acc216618ba0",
            "36df65c6cdf74d0f94b9d98d86b325f2",
            "7c3a0868ac974c2cac571b86ebf2ee48",
            "0f122ff314ce48468170b8c08e7f81b5"
          ]
        },
        "outputId": "d4636ec4-40fd-4380-d277-743b3846515e"
      },
      "source": [
        "import tensorflow as tf\n",
        "from keras.layers import Dropout, Dense\n",
        "from transformers import TFCamembertModel\n",
        "\n",
        "class JobClassificationModel(tf.keras.Model):\n",
        "\n",
        "    def __init__(self, num_labels=None, model_name=\"jplu/tf-camembert-base\",\n",
        "                 dropout_prob=0.1):\n",
        "        super().__init__(name=\"job_class\")\n",
        "        self.camembert = TFCamembertModel.from_pretrained(model_name)\n",
        "        self.dropout = Dropout(dropout_prob)\n",
        "        self.job_classifier = Dense(num_labels)\n",
        "\n",
        "    def call(self, inputs, **kwargs):\n",
        "        sequence_output, pooled_output = self.camembert(inputs, **kwargs)\n",
        "\n",
        "        pooled_output = self.dropout(pooled_output,\n",
        "                                     training=kwargs.get(\"training\", False))\n",
        "        \n",
        "        job_logits = self.job_classifier(pooled_output)\n",
        "        return job_logits\n",
        "\n",
        "camembert_model = JobClassificationModel(num_labels=14)"
      ],
      "execution_count": 13,
      "outputs": [
        {
          "output_type": "display_data",
          "data": {
            "application/vnd.jupyter.widget-view+json": {
              "model_id": "915a06018386439cb1291ae624581b54",
              "version_minor": 0,
              "version_major": 2
            },
            "text/plain": [
              "HBox(children=(FloatProgress(value=0.0, description='Downloading', max=508.0, style=ProgressStyle(description_…"
            ]
          },
          "metadata": {
            "tags": []
          }
        },
        {
          "output_type": "stream",
          "text": [
            "\n"
          ],
          "name": "stdout"
        },
        {
          "output_type": "display_data",
          "data": {
            "application/vnd.jupyter.widget-view+json": {
              "model_id": "8e9e639f3bdd458b83d05f67379eef9b",
              "version_minor": 0,
              "version_major": 2
            },
            "text/plain": [
              "HBox(children=(FloatProgress(value=0.0, description='Downloading', max=545172724.0, style=ProgressStyle(descri…"
            ]
          },
          "metadata": {
            "tags": []
          }
        },
        {
          "output_type": "stream",
          "text": [
            "\n"
          ],
          "name": "stdout"
        }
      ]
    },
    {
      "cell_type": "code",
      "metadata": {
        "id": "Q8kuxzOH2ujY"
      },
      "source": [
        "from keras.optimizers import Adam\n",
        "from keras.losses import CategoricalCrossentropy\n",
        "from keras.metrics import CategoricalAccuracy\n",
        "\n",
        "camembert_model.compile(optimizer=Adam(learning_rate=3e-5, epsilon=1e-08),\n",
        "                     loss=CategoricalCrossentropy(from_logits=True),\n",
        "                     metrics=[CategoricalAccuracy('accuracy')])"
      ],
      "execution_count": 14,
      "outputs": []
    },
    {
      "cell_type": "code",
      "metadata": {
        "id": "yth2MLpH_ZOo",
        "colab": {
          "base_uri": "https://localhost:8080/"
        },
        "outputId": "f44cf698-fcee-48ab-fee1-68675943da9d"
      },
      "source": [
        "tf.config.run_functions_eagerly(True)\n",
        "history = camembert_model.fit(encoded_train, to_categorical(y_train), epochs=4, batch_size=32,\n",
        "                           validation_data=(encoded_valid, to_categorical(y_valid)))"
      ],
      "execution_count": 17,
      "outputs": [
        {
          "output_type": "stream",
          "text": [
            "/usr/local/lib/python3.7/dist-packages/tensorflow/python/data/ops/dataset_ops.py:3504: UserWarning: Even though the tf.config.experimental_run_functions_eagerly option is set, this option does not apply to tf.data functions. tf.data functions are still traced and executed as graphs.\n",
            "  \"Even though the tf.config.experimental_run_functions_eagerly \"\n"
          ],
          "name": "stderr"
        },
        {
          "output_type": "stream",
          "text": [
            "Epoch 1/4\n",
            "422/422 [==============================] - 169s 401ms/step - loss: 0.5163 - accuracy: 0.8572 - val_loss: 0.5068 - val_accuracy: 0.8604\n",
            "Epoch 2/4\n",
            "422/422 [==============================] - 170s 402ms/step - loss: 0.3476 - accuracy: 0.9038 - val_loss: 0.4433 - val_accuracy: 0.8856\n",
            "Epoch 3/4\n",
            "422/422 [==============================] - 170s 403ms/step - loss: 0.2575 - accuracy: 0.9279 - val_loss: 0.3993 - val_accuracy: 0.8897\n",
            "Epoch 4/4\n",
            "422/422 [==============================] - 172s 407ms/step - loss: 0.1958 - accuracy: 0.9444 - val_loss: 0.3785 - val_accuracy: 0.9081\n"
          ],
          "name": "stdout"
        }
      ]
    },
    {
      "cell_type": "code",
      "metadata": {
        "id": "Ot04KfINwfUv",
        "colab": {
          "base_uri": "https://localhost:8080/"
        },
        "outputId": "8f24aad5-e35b-4ca6-cff2-aeb7f6d84d82"
      },
      "source": [
        "y_pred = np.argmax(camembert_model(encoded_test), axis=-1).reshape(-1,1)\n",
        "print(\"Test accuracy:\", np.mean(y_pred == y_test))"
      ],
      "execution_count": 18,
      "outputs": [
        {
          "output_type": "stream",
          "text": [
            "Test accuracy: 0.9129996640913671\n"
          ],
          "name": "stdout"
        }
      ]
    },
    {
      "cell_type": "markdown",
      "metadata": {
        "id": "z8eYie2Lw-07"
      },
      "source": [
        "We get an accuracy a little bit higher than in the CBOW model."
      ]
    },
    {
      "cell_type": "markdown",
      "metadata": {
        "id": "0J1Iistt_5lK"
      },
      "source": [
        "Domaine"
      ]
    },
    {
      "cell_type": "code",
      "metadata": {
        "id": "-JMr9kz2Znk1"
      },
      "source": [
        "X = df['appelation_metier'] \n",
        "domaine = OrdinalEncoder().fit_transform(df['appelation_domaine'].values.reshape(-1,1))\n",
        "\n",
        "X, X_test, domaine, domaine_test = train_test_split(X, domaine, test_size=0.15, random_state=42)\n",
        "X_train, X_valid, domaine_train, domaine_valid = train_test_split(X, domaine, test_size=0.2, random_state=42)\n",
        "\n",
        "encoded_train = encode_dataset(camembert_tokenizer, X_train, 35)\n",
        "encoded_valid = encode_dataset(camembert_tokenizer, X_valid, 35)\n",
        "encoded_test = encode_dataset(camembert_tokenizer, X_test, 35)"
      ],
      "execution_count": 19,
      "outputs": []
    },
    {
      "cell_type": "code",
      "metadata": {
        "id": "pvnhjeIPaplj"
      },
      "source": [
        "camembert_model_domaine = JobClassificationModel(num_labels=110)"
      ],
      "execution_count": 20,
      "outputs": []
    },
    {
      "cell_type": "code",
      "metadata": {
        "id": "LX2gcy7qayrg"
      },
      "source": [
        "camembert_model_domaine.compile(optimizer=Adam(learning_rate=3e-5, epsilon=1e-08),\n",
        "                     loss=CategoricalCrossentropy(from_logits=True),\n",
        "                     metrics=[CategoricalAccuracy('accuracy')])"
      ],
      "execution_count": 21,
      "outputs": []
    },
    {
      "cell_type": "code",
      "metadata": {
        "id": "ucMouGMNqAYc",
        "colab": {
          "base_uri": "https://localhost:8080/"
        },
        "outputId": "359c9fda-c595-4d29-c6f2-e03cd390d5ed"
      },
      "source": [
        "tf.config.run_functions_eagerly(True)\n",
        "history = camembert_model_domaine.fit(encoded_train, to_categorical(domaine_train), epochs=4, batch_size=32,\n",
        "                           validation_data=(encoded_valid, to_categorical(domaine_valid)))"
      ],
      "execution_count": 22,
      "outputs": [
        {
          "output_type": "stream",
          "text": [
            "/usr/local/lib/python3.7/dist-packages/tensorflow/python/data/ops/dataset_ops.py:3504: UserWarning: Even though the tf.config.experimental_run_functions_eagerly option is set, this option does not apply to tf.data functions. tf.data functions are still traced and executed as graphs.\n",
            "  \"Even though the tf.config.experimental_run_functions_eagerly \"\n"
          ],
          "name": "stderr"
        },
        {
          "output_type": "stream",
          "text": [
            "Epoch 1/4\n",
            "422/422 [==============================] - 172s 406ms/step - loss: 4.3136 - accuracy: 0.0983 - val_loss: 2.7208 - val_accuracy: 0.4576\n",
            "Epoch 2/4\n",
            "422/422 [==============================] - 171s 405ms/step - loss: 2.4725 - accuracy: 0.4994 - val_loss: 1.5643 - val_accuracy: 0.6550\n",
            "Epoch 3/4\n",
            "422/422 [==============================] - 171s 406ms/step - loss: 1.3951 - accuracy: 0.7034 - val_loss: 1.0416 - val_accuracy: 0.7715\n",
            "Epoch 4/4\n",
            "422/422 [==============================] - 169s 401ms/step - loss: 0.8265 - accuracy: 0.8335 - val_loss: 0.7369 - val_accuracy: 0.8352\n"
          ],
          "name": "stdout"
        }
      ]
    },
    {
      "cell_type": "code",
      "metadata": {
        "id": "qzxjZ_WecUDg",
        "colab": {
          "base_uri": "https://localhost:8080/"
        },
        "outputId": "7e2f21d2-4b74-42a6-838b-82547715e2e3"
      },
      "source": [
        "domaine_pred = np.argmax(camembert_model_domaine(encoded_test), axis=-1).reshape(-1,1)\n",
        "print(\"Test accuracy:\", np.mean(domaine_pred == domaine_test))"
      ],
      "execution_count": 24,
      "outputs": [
        {
          "output_type": "stream",
          "text": [
            "Test accuracy: 0.831709774941216\n"
          ],
          "name": "stdout"
        }
      ]
    },
    {
      "cell_type": "markdown",
      "metadata": {
        "id": "eKBy_hB7_2cs"
      },
      "source": [
        "Code Rome"
      ]
    },
    {
      "cell_type": "code",
      "metadata": {
        "id": "ujEJcKtWmMOs"
      },
      "source": [
        "X = df['appelation_metier'] \n",
        "domaine = OrdinalEncoder().fit_transform(df['appelation_fiche_rome'].values.reshape(-1,1))\n",
        "\n",
        "X, X_test, rome, rome_test = train_test_split(X, domaine, test_size=0.15, random_state=42)\n",
        "X_train, X_valid, rome_train, rome_valid = train_test_split(X, rome, test_size=0.2, random_state=42)\n",
        "\n",
        "encoded_train = encode_dataset(camembert_tokenizer, X_train, 35)\n",
        "encoded_valid = encode_dataset(camembert_tokenizer, X_valid, 35)\n",
        "encoded_test = encode_dataset(camembert_tokenizer, X_test, 35)"
      ],
      "execution_count": 25,
      "outputs": []
    },
    {
      "cell_type": "code",
      "metadata": {
        "id": "_Uc1F9tzmOaB"
      },
      "source": [
        "camembert_model_rome = JobClassificationModel(num_labels=532)"
      ],
      "execution_count": 26,
      "outputs": []
    },
    {
      "cell_type": "code",
      "metadata": {
        "id": "RhQbVCZ7x7No"
      },
      "source": [
        "camembert_model_rome.compile(optimizer=Adam(learning_rate=3e-5, epsilon=1e-08),\n",
        "                     loss=CategoricalCrossentropy(from_logits=True),\n",
        "                     metrics=[CategoricalAccuracy('accuracy')])"
      ],
      "execution_count": 27,
      "outputs": []
    },
    {
      "cell_type": "code",
      "metadata": {
        "id": "4Ep6XhMqx87U",
        "colab": {
          "base_uri": "https://localhost:8080/"
        },
        "outputId": "3e65f909-3d96-4250-f779-947b900b054f"
      },
      "source": [
        "tf.config.run_functions_eagerly(True)\n",
        "history = camembert_model_rome.fit(encoded_train, to_categorical(rome_train), epochs=3, batch_size=32,\n",
        "                           validation_data=(encoded_valid, to_categorical(rome_valid)))"
      ],
      "execution_count": 28,
      "outputs": [
        {
          "output_type": "stream",
          "text": [
            "/usr/local/lib/python3.7/dist-packages/tensorflow/python/data/ops/dataset_ops.py:3504: UserWarning: Even though the tf.config.experimental_run_functions_eagerly option is set, this option does not apply to tf.data functions. tf.data functions are still traced and executed as graphs.\n",
            "  \"Even though the tf.config.experimental_run_functions_eagerly \"\n"
          ],
          "name": "stderr"
        },
        {
          "output_type": "stream",
          "text": [
            "Epoch 1/3\n",
            "422/422 [==============================] - 169s 400ms/step - loss: 6.2229 - accuracy: 0.0080 - val_loss: 5.9519 - val_accuracy: 0.0296\n",
            "Epoch 2/3\n",
            "422/422 [==============================] - 169s 401ms/step - loss: 5.7720 - accuracy: 0.0643 - val_loss: 5.0357 - val_accuracy: 0.1769\n",
            "Epoch 3/3\n",
            "422/422 [==============================] - 169s 401ms/step - loss: 4.8259 - accuracy: 0.2131 - val_loss: 4.0425 - val_accuracy: 0.3112\n"
          ],
          "name": "stdout"
        }
      ]
    },
    {
      "cell_type": "code",
      "metadata": {
        "id": "PsyAytY9O1_F",
        "colab": {
          "base_uri": "https://localhost:8080/"
        },
        "outputId": "8abf4d39-e0c4-4734-f167-129d3f2e0962"
      },
      "source": [
        "rome_pred = np.argmax(camembert_model_rome(encoded_test), axis=-1).reshape(-1,1)\n",
        "print(\"Test accuracy:\", np.mean(rome_pred == rome_test))"
      ],
      "execution_count": 30,
      "outputs": [
        {
          "output_type": "stream",
          "text": [
            "Test accuracy: 0.2972791400738999\n"
          ],
          "name": "stdout"
        }
      ]
    },
    {
      "cell_type": "markdown",
      "metadata": {
        "id": "Bmsf4z3TM7S9"
      },
      "source": [
        "It seems that the model doesn't work well with so many classes."
      ]
    },
    {
      "cell_type": "markdown",
      "metadata": {
        "id": "S6FiOO0wGRNv"
      },
      "source": [
        "## **Fast Text**"
      ]
    },
    {
      "cell_type": "code",
      "metadata": {
        "id": "LcFliBcoFJJS"
      },
      "source": [
        "!pip install fasttext"
      ],
      "execution_count": null,
      "outputs": []
    },
    {
      "cell_type": "code",
      "metadata": {
        "id": "OrC-E0RPGaVP"
      },
      "source": [
        "import fasttext"
      ],
      "execution_count": null,
      "outputs": []
    },
    {
      "cell_type": "code",
      "metadata": {
        "id": "g6uDZTZ3XVKm"
      },
      "source": [
        "train, test = train_test_split(df, test_size=0.15, random_state=42)\n",
        "train, valid = train_test_split(train, test_size=0.2, random_state=42) "
      ],
      "execution_count": null,
      "outputs": []
    },
    {
      "cell_type": "markdown",
      "metadata": {
        "id": "4aFTpJvHoxJg"
      },
      "source": [
        "### Grand Domaine"
      ]
    },
    {
      "cell_type": "markdown",
      "metadata": {
        "id": "UE94KXkH4Gc5"
      },
      "source": [
        "Now let's create the file that will be used as an input to our Fast Text model for Grand Domaine:"
      ]
    },
    {
      "cell_type": "code",
      "metadata": {
        "id": "XrUp6MZ4GjHk"
      },
      "source": [
        "with open('fasttext_input_train.txt', 'w') as f:\n",
        "    for each_text, each_label in zip(train['appelation_metier'], train['code_grand_domaine']):\n",
        "        f.writelines(f'__label__{each_label} {each_text}\\n')"
      ],
      "execution_count": null,
      "outputs": []
    },
    {
      "cell_type": "code",
      "metadata": {
        "id": "7JVdxroQThp_"
      },
      "source": [
        "with open('fasttext_input_vali.txt', 'w') as f:\n",
        "    for each_text, each_label in zip(valid['appelation_metier'], valid['code_grand_domaine']):\n",
        "        f.writelines(f'__label__{each_label} {each_text}\\n')"
      ],
      "execution_count": null,
      "outputs": []
    },
    {
      "cell_type": "code",
      "metadata": {
        "id": "ODgzXjIlMUOj"
      },
      "source": [
        "with open('fasttext_input_test.txt', 'w') as f:\n",
        "    for each_text, each_label in zip(test['appelation_metier'], test['code_grand_domaine']):\n",
        "        f.writelines(f'__label__{each_label} {each_text}\\n')"
      ],
      "execution_count": null,
      "outputs": []
    },
    {
      "cell_type": "markdown",
      "metadata": {
        "id": "UiE1bOxb4W-x"
      },
      "source": [
        "We want our model to have the best performances. To do so, we autotune him with a specified duration (lets say 20 minutes, 1200 seconds)"
      ]
    },
    {
      "cell_type": "code",
      "metadata": {
        "id": "yZ-kXP38Htwj"
      },
      "source": [
        "#fasttext_model = fasttext.train_supervised('fasttext_input_train.txt', autotuneValidationFile='fasttext_input_vali.txt', autotuneDuration=1200)"
      ],
      "execution_count": null,
      "outputs": []
    },
    {
      "cell_type": "markdown",
      "metadata": {
        "id": "cM7jCkxw4iXk"
      },
      "source": [
        "Let's have a look at the hyperparameters chosen:"
      ]
    },
    {
      "cell_type": "code",
      "metadata": {
        "id": "21qT7-3a2CKX"
      },
      "source": [
        "#args_obj = fasttext_model.f.getArgs()\n",
        "#for hparam in dir(args_obj):\n",
        "#    if not hparam.startswith('__'):\n",
        "#        print(f\"{hparam} -> {getattr(args_obj, hparam)}\")"
      ],
      "execution_count": null,
      "outputs": []
    },
    {
      "cell_type": "markdown",
      "metadata": {
        "id": "GBmTQZ2f4oY8"
      },
      "source": [
        "We are especially interested in : \n",
        "- minn and maxn : number of character ngram taken onto account : \n",
        "- wordNgram : the maximum number of word ngram taken onto account "
      ]
    },
    {
      "cell_type": "markdown",
      "metadata": {
        "id": "Ce9QmgTL7Qc2"
      },
      "source": [
        "We do not need to autotune each time. Once we know the best hyper parameters, we can directly train a model with these hyperparameters. "
      ]
    },
    {
      "cell_type": "code",
      "metadata": {
        "id": "qiKO1T3z6q-B"
      },
      "source": [
        "fasttext_model = fasttext.train_supervised('fasttext_input_train.txt', epoch=100, maxn=5, minn=2, wordNgrams=5)"
      ],
      "execution_count": null,
      "outputs": []
    },
    {
      "cell_type": "code",
      "metadata": {
        "colab": {
          "base_uri": "https://localhost:8080/"
        },
        "id": "qInJZ9uZI4PS",
        "outputId": "03871c70-b8a5-4300-db98-0a3fce9950cf"
      },
      "source": [
        "print(\"The accuracy on the {} elements belonging to the test set is: {}\".format(*fasttext_model.test('fasttext_input_test.txt')))"
      ],
      "execution_count": null,
      "outputs": [
        {
          "output_type": "stream",
          "text": [
            "The accuracy on the 2977 elements belonging to the test set is: 0.9197178367484045\n"
          ],
          "name": "stdout"
        }
      ]
    },
    {
      "cell_type": "markdown",
      "metadata": {
        "id": "xjKeGQsh7PD1"
      },
      "source": [
        "We could also look, by hand, at the categories predicted for a name of job. Here for example, the top 3 proposition of the model for the job \"Médecin\" are:\n",
        "- J (Health) with a probability of 0.98\n",
        "- L (Spectale) with a probability of 0.01\n",
        "- A (Agriculture) with a probability < 0.01\n",
        "\n",
        "This is indeed the good prediction."
      ]
    },
    {
      "cell_type": "code",
      "metadata": {
        "colab": {
          "base_uri": "https://localhost:8080/"
        },
        "id": "8wi5rv25Ilh7",
        "outputId": "18399ff1-8fe0-45d3-d316-44877f0913ef"
      },
      "source": [
        "fasttext_model.predict(\"Medecin\", k=3)"
      ],
      "execution_count": null,
      "outputs": [
        {
          "output_type": "execute_result",
          "data": {
            "text/plain": [
              "(('__label__J', '__label__L', '__label__A'),\n",
              " array([0.98054701, 0.0113408 , 0.00458748]))"
            ]
          },
          "metadata": {
            "tags": []
          },
          "execution_count": 45
        }
      ]
    },
    {
      "cell_type": "markdown",
      "metadata": {
        "id": "8ANCbhj-7tKe"
      },
      "source": [
        "Now we want to plot the confusion matrix in order to better understand where the mistakes have been made. "
      ]
    },
    {
      "cell_type": "code",
      "metadata": {
        "colab": {
          "base_uri": "https://localhost:8080/",
          "height": 965
        },
        "id": "3cVSGy-Vwi2s",
        "outputId": "6dd9cf11-8e10-4cd6-88c5-b85f26abe2de"
      },
      "source": [
        "labels = sorted(test['code_grand_domaine'].unique())\n",
        "dic_grand_domaine = {code: test[test.code_grand_domaine==code]['appelation_grand_domaine'].iloc[0] for code in labels}\n",
        "\n",
        "new_labels = [dic_grand_domaine.get(label) for label in labels]\n",
        "new_labels[0] = 'Agriculture'\n",
        "test[\"gd_predicted\"] = test[\"appelation_metier\"].apply(lambda x: fasttext_model.predict(x)[0][0])\n",
        "test['gd_predicted'] = test['gd_predicted'].str.replace('__label__', '')\n",
        "df_cm = pd.DataFrame(confusion_matrix(test[\"code_grand_domaine\"], test[\"gd_predicted\"]), index=new_labels, columns=new_labels)\n",
        "\n",
        "plt.figure(figsize = (12,8))\n",
        "sns.heatmap(df_cm, annot=True, fmt='.0f',cmap=\"YlGnBu\")\n",
        "\n",
        "plt.savefig('confusion_matrix_labels.png', bbox_inches='tight')"
      ],
      "execution_count": null,
      "outputs": [
        {
          "output_type": "stream",
          "text": [
            "/usr/local/lib/python3.7/dist-packages/ipykernel_launcher.py:6: SettingWithCopyWarning: \n",
            "A value is trying to be set on a copy of a slice from a DataFrame.\n",
            "Try using .loc[row_indexer,col_indexer] = value instead\n",
            "\n",
            "See the caveats in the documentation: https://pandas.pydata.org/pandas-docs/stable/user_guide/indexing.html#returning-a-view-versus-a-copy\n",
            "  \n",
            "/usr/local/lib/python3.7/dist-packages/ipykernel_launcher.py:7: SettingWithCopyWarning: \n",
            "A value is trying to be set on a copy of a slice from a DataFrame.\n",
            "Try using .loc[row_indexer,col_indexer] = value instead\n",
            "\n",
            "See the caveats in the documentation: https://pandas.pydata.org/pandas-docs/stable/user_guide/indexing.html#returning-a-view-versus-a-copy\n",
            "  import sys\n"
          ],
          "name": "stderr"
        },
        {
          "output_type": "display_data",
          "data": {
            "image/png": "[encoded data removed]",
            "text/plain": [
              "<Figure size 864x576 with 2 Axes>"
            ]
          },
          "metadata": {
            "tags": [],
            "needs_background": "light"
          }
        }
      ]
    },
    {
      "cell_type": "markdown",
      "metadata": {
        "id": "GGOWTAXq_x0a"
      },
      "source": [
        "### Domaine"
      ]
    },
    {
      "cell_type": "code",
      "metadata": {
        "id": "61fYYZO78EPw"
      },
      "source": [
        "with open('fasttext_input_domaine_train.txt', 'w') as f:\n",
        "    for each_text, each_label in zip(train['appelation_metier'], train['code_domaine']):\n",
        "        f.writelines(f'__label__{each_label} {each_text}\\n')\n",
        "\n",
        "with open('fasttext_input_domaine_vali.txt', 'w') as f:\n",
        "    for each_text, each_label in zip(valid['appelation_metier'], valid['code_domaine']):\n",
        "        f.writelines(f'__label__{each_label} {each_text}\\n')\n",
        "\n",
        "with open('fasttext_input_domaine_test.txt', 'w') as f:\n",
        "    for each_text, each_label in zip(test['appelation_metier'], test['code_domaine']):\n",
        "        f.writelines(f'__label__{each_label} {each_text}\\n')"
      ],
      "execution_count": null,
      "outputs": []
    },
    {
      "cell_type": "code",
      "metadata": {
        "id": "vELmieFx8jAT"
      },
      "source": [
        "fasttext_domaine_model = fasttext.train_supervised('fasttext_input_domaine_train.txt', epoch=100, maxn=5, minn=2, wordNgrams=5)"
      ],
      "execution_count": null,
      "outputs": []
    },
    {
      "cell_type": "code",
      "metadata": {
        "colab": {
          "base_uri": "https://localhost:8080/"
        },
        "id": "gp7Agzox8ncW",
        "outputId": "0fd00427-52bc-4bfa-b4a6-3a6cb93af40c"
      },
      "source": [
        "print(\"The accuracy of Domaine on the {} elements belonging to the test set is: {}\".format(*fasttext_domaine_model.test('fasttext_input_domaine_test.txt')))"
      ],
      "execution_count": null,
      "outputs": [
        {
          "output_type": "stream",
          "text": [
            "The accuracy of Domaine on the 2977 elements belonging to the test set is: 0.8700033590863285\n"
          ],
          "name": "stdout"
        }
      ]
    },
    {
      "cell_type": "markdown",
      "metadata": {
        "id": "pIYpqy68_zto"
      },
      "source": [
        "### Code Rome"
      ]
    },
    {
      "cell_type": "code",
      "metadata": {
        "id": "CNzC7wNS8DC6"
      },
      "source": [
        "with open('fasttext_input_rome_train.txt', 'w') as f:\n",
        "    for each_text, each_label in zip(train['appelation_metier'], train['code_fiche_rome']):\n",
        "        f.writelines(f'__label__{each_label} {each_text}\\n')\n",
        "\n",
        "with open('fasttext_input_rome_vali.txt', 'w') as f:\n",
        "    for each_text, each_label in zip(valid['appelation_metier'], valid['code_fiche_rome']):\n",
        "        f.writelines(f'__label__{each_label} {each_text}\\n')\n",
        "\n",
        "with open('fasttext_input_rome_test.txt', 'w') as f:\n",
        "    for each_text, each_label in zip(test['appelation_metier'], test['code_fiche_rome']):\n",
        "        f.writelines(f'__label__{each_label} {each_text}\\n')"
      ],
      "execution_count": null,
      "outputs": []
    },
    {
      "cell_type": "code",
      "metadata": {
        "id": "ysC0PF498ynz"
      },
      "source": [
        "fasttext_rome_model = fasttext.train_supervised('fasttext_input_rome_train.txt', epoch=100, maxn=5, minn=2, wordNgrams=5)"
      ],
      "execution_count": null,
      "outputs": []
    },
    {
      "cell_type": "code",
      "metadata": {
        "colab": {
          "base_uri": "https://localhost:8080/"
        },
        "id": "PP91J11H80wj",
        "outputId": "0b5a04c2-8d12-4c5d-b352-8d0ac6d51a8e"
      },
      "source": [
        "print(\"The accuracy of Code ROME on the {} elements belonging to the test set is: {}\".format(*fasttext_rome_model.test('fasttext_input_rome_test.txt')))"
      ],
      "execution_count": null,
      "outputs": [
        {
          "output_type": "stream",
          "text": [
            "The accuracy of Code ROME on the 2977 elements belonging to the test set is: 0.8186093382599933\n"
          ],
          "name": "stdout"
        }
      ]
    },
    {
      "cell_type": "markdown",
      "metadata": {
        "id": "Zd59iMyJDxgE"
      },
      "source": [
        "## **Comparison of results**"
      ]
    },
    {
      "cell_type": "markdown",
      "metadata": {
        "id": "vbZ3H0FAKgSU"
      },
      "source": [
        "We sum-up the results in a dataframe."
      ]
    },
    {
      "cell_type": "code",
      "metadata": {
        "colab": {
          "base_uri": "https://localhost:8080/",
          "height": 143
        },
        "id": "vozHrMrbDztp",
        "outputId": "0c9face5-1edc-47aa-cd43-7e64d3ae51b5"
      },
      "source": [
        "cbow = [89.92, 86.29, 83.7]\n",
        "camembert = [91, 87, 0.01]\n",
        "fasttext = [91.97,87,81.86]\n",
        "pd.DataFrame(np.array([cbow, camembert, fasttext]),index=['CBOW','CamemBert','Fast Text'],\n",
        "                   columns=['Grand Domaine', 'Domaine', 'Code Rome'], dtype = float)"
      ],
      "execution_count": null,
      "outputs": [
        {
          "output_type": "execute_result",
          "data": {
            "text/html": [
              "<div>\n",
              "<style scoped>\n",
              "    .dataframe tbody tr th:only-of-type {\n",
              "        vertical-align: middle;\n",
              "    }\n",
              "\n",
              "    .dataframe tbody tr th {\n",
              "        vertical-align: top;\n",
              "    }\n",
              "\n",
              "    .dataframe thead th {\n",
              "        text-align: right;\n",
              "    }\n",
              "</style>\n",
              "<table border=\"1\" class=\"dataframe\">\n",
              "  <thead>\n",
              "    <tr style=\"text-align: right;\">\n",
              "      <th></th>\n",
              "      <th>Grand Domaine</th>\n",
              "      <th>Domaine</th>\n",
              "      <th>Code Rome</th>\n",
              "    </tr>\n",
              "  </thead>\n",
              "  <tbody>\n",
              "    <tr>\n",
              "      <th>CBOW</th>\n",
              "      <td>89.92</td>\n",
              "      <td>86.29</td>\n",
              "      <td>83.70</td>\n",
              "    </tr>\n",
              "    <tr>\n",
              "      <th>CamemBert</th>\n",
              "      <td>91.00</td>\n",
              "      <td>87.00</td>\n",
              "      <td>0.01</td>\n",
              "    </tr>\n",
              "    <tr>\n",
              "      <th>Fast Text</th>\n",
              "      <td>91.97</td>\n",
              "      <td>87.00</td>\n",
              "      <td>81.86</td>\n",
              "    </tr>\n",
              "  </tbody>\n",
              "</table>\n",
              "</div>"
            ],
            "text/plain": [
              "           Grand Domaine  Domaine  Code Rome\n",
              "CBOW               89.92    86.29      83.70\n",
              "CamemBert          91.00    87.00       0.01\n",
              "Fast Text          91.97    87.00      81.86"
            ]
          },
          "metadata": {
            "tags": []
          },
          "execution_count": 53
        }
      ]
    },
    {
      "cell_type": "markdown",
      "metadata": {
        "id": "NVz7juw3OqYN"
      },
      "source": [
        "We observe that the 3 models achieve similar accuracies."
      ]
    },
    {
      "cell_type": "markdown",
      "metadata": {
        "id": "f009zYnVoVr0"
      },
      "source": [
        "## **External Validity**"
      ]
    },
    {
      "cell_type": "markdown",
      "metadata": {
        "id": "s0dCT2U4xpTI"
      },
      "source": [
        "In this section, we want to check the validy of each model with data coming from a different source. This would allow us to establish if our models are able to be generalized to other type of data (for example, surveys). \n",
        "\n",
        "We use a dataset of annotated jobs from ONISEP (French public institute of information on education and jobs).It includes a \"Code ROME\" which allows us to retrieve the Code Grand domaine that we have studied so far."
      ]
    },
    {
      "cell_type": "code",
      "metadata": {
        "colab": {
          "base_uri": "https://localhost:8080/",
          "height": 231
        },
        "id": "QXMwWz2WfApK",
        "outputId": "b363b3f6-1a3b-4b6d-9b9a-12f8fb57ed2d"
      },
      "source": [
        "url_onisep = \"https://raw.githubusercontent.com/simondemouchy/NLP_Project/main/metiers-onisep.csv\"\n",
        "\n",
        "onisep = pd.read_csv(url_onisep, sep=';')\n",
        "onisep = onisep.drop(columns = ['lien site onisep.fr', 'collection', 'année', 'gencod', 'lien ROME'])\n",
        "onisep['code_grand_domaine'] = onisep['code ROME'].str[0]\n",
        "print(onisep.shape)\n",
        "onisep.head(3)"
      ],
      "execution_count": null,
      "outputs": [
        {
          "output_type": "stream",
          "text": [
            "(1142, 7)\n"
          ],
          "name": "stdout"
        },
        {
          "output_type": "execute_result",
          "data": {
            "text/html": [
              "<div>\n",
              "<style scoped>\n",
              "    .dataframe tbody tr th:only-of-type {\n",
              "        vertical-align: middle;\n",
              "    }\n",
              "\n",
              "    .dataframe tbody tr th {\n",
              "        vertical-align: top;\n",
              "    }\n",
              "\n",
              "    .dataframe thead th {\n",
              "        text-align: right;\n",
              "    }\n",
              "</style>\n",
              "<table border=\"1\" class=\"dataframe\">\n",
              "  <thead>\n",
              "    <tr style=\"text-align: right;\">\n",
              "      <th></th>\n",
              "      <th>libellé métier</th>\n",
              "      <th>nom publication</th>\n",
              "      <th>GFE</th>\n",
              "      <th>code ROME</th>\n",
              "      <th>libellé ROME</th>\n",
              "      <th>domaine/sous-domaine ONISEP</th>\n",
              "      <th>code_grand_domaine</th>\n",
              "    </tr>\n",
              "  </thead>\n",
              "  <tbody>\n",
              "    <tr>\n",
              "      <th>0</th>\n",
              "      <td>architecte</td>\n",
              "      <td>Les métiers de l'architecture, de l'urbanisme ...</td>\n",
              "      <td>C : Bâtiment</td>\n",
              "      <td>F1101</td>\n",
              "      <td>Architecture du BTP et du paysage</td>\n",
              "      <td>construction - architecture - travaux publics/...</td>\n",
              "      <td>F</td>\n",
              "    </tr>\n",
              "    <tr>\n",
              "      <th>1</th>\n",
              "      <td>géomètre-topographe</td>\n",
              "      <td>Les métiers de l'immobilier</td>\n",
              "      <td>C : Bâtiment</td>\n",
              "      <td>F1108</td>\n",
              "      <td>Métré de la construction</td>\n",
              "      <td>construction - architecture - travaux publics/...</td>\n",
              "      <td>F</td>\n",
              "    </tr>\n",
              "    <tr>\n",
              "      <th>2</th>\n",
              "      <td>technicien / technicienne de maintenance en gé...</td>\n",
              "      <td>Les métiers du bâtiment et des travaux publics</td>\n",
              "      <td>H : Electricité, énergie, électronique</td>\n",
              "      <td>I1308</td>\n",
              "      <td>Maintenance d'installation de chauffage</td>\n",
              "      <td>construction - architecture - travaux publics/...</td>\n",
              "      <td>I</td>\n",
              "    </tr>\n",
              "  </tbody>\n",
              "</table>\n",
              "</div>"
            ],
            "text/plain": [
              "                                      libellé métier  ... code_grand_domaine\n",
              "0                                         architecte  ...                  F\n",
              "1                                géomètre-topographe  ...                  F\n",
              "2  technicien / technicienne de maintenance en gé...  ...                  I\n",
              "\n",
              "[3 rows x 7 columns]"
            ]
          },
          "metadata": {
            "tags": []
          },
          "execution_count": 67
        }
      ]
    },
    {
      "cell_type": "code",
      "metadata": {
        "colab": {
          "base_uri": "https://localhost:8080/"
        },
        "id": "f4P2S2z9f0UR",
        "outputId": "ab40dc2b-bfc7-4e1d-d1cd-d020530124f6"
      },
      "source": [
        "onisep_m = onisep.drop(columns=['libellé métier']).copy()\n",
        "onisep_f = onisep.drop(columns=['libellé métier']).copy()\n",
        "\n",
        "onisep_m['appelation_metier'] = onisep['libellé métier'].apply(get_masculin)\n",
        "onisep_f['appelation_metier'] = onisep['libellé métier'].apply(get_feminin)\n",
        "neutral_job = list(pd.concat([onisep_m, onisep_f])[pd.concat([onisep_m, onisep_f]).duplicated(subset=['appelation_metier'])]['appelation_metier'])\n",
        "onisep_f = onisep_f[~onisep_f['appelation_metier'].isin(neutral_job)]\n",
        "onisep = pd.concat([onisep_m, onisep_f])\n",
        "onisep.shape"
      ],
      "execution_count": null,
      "outputs": [
        {
          "output_type": "execute_result",
          "data": {
            "text/plain": [
              "(1514, 7)"
            ]
          },
          "metadata": {
            "tags": []
          },
          "execution_count": 68
        }
      ]
    },
    {
      "cell_type": "code",
      "metadata": {
        "colab": {
          "base_uri": "https://localhost:8080/"
        },
        "id": "RbiFxoWO-zFx",
        "outputId": "dd107763-0ad9-4883-ef62-80c7f41516c1"
      },
      "source": [
        "onisep.isnull().sum()"
      ],
      "execution_count": null,
      "outputs": [
        {
          "output_type": "execute_result",
          "data": {
            "text/plain": [
              "nom publication                269\n",
              "GFE                              0\n",
              "code ROME                      110\n",
              "libellé ROME                   110\n",
              "domaine/sous-domaine ONISEP      0\n",
              "code_grand_domaine             110\n",
              "appelation_metier                0\n",
              "dtype: int64"
            ]
          },
          "metadata": {
            "tags": []
          },
          "execution_count": 69
        }
      ]
    },
    {
      "cell_type": "markdown",
      "metadata": {
        "id": "6sAksJwBhr5R"
      },
      "source": [
        "There are NaNs in this dataframe, we must handle them before going on. The columns that matter are \"appelation_metier\", \"code ROME\", and \"code_grand_domaine\"."
      ]
    },
    {
      "cell_type": "code",
      "metadata": {
        "colab": {
          "base_uri": "https://localhost:8080/"
        },
        "id": "4RTYZnCCj7_z",
        "outputId": "08a46f12-3502-4fc4-b5af-b9f9b2035dbc"
      },
      "source": [
        "onisep = onisep.dropna(subset=['code_grand_domaine'])\n",
        "onisep.shape"
      ],
      "execution_count": null,
      "outputs": [
        {
          "output_type": "execute_result",
          "data": {
            "text/plain": [
              "(1404, 7)"
            ]
          },
          "metadata": {
            "tags": []
          },
          "execution_count": 70
        }
      ]
    },
    {
      "cell_type": "code",
      "metadata": {
        "colab": {
          "base_uri": "https://localhost:8080/"
        },
        "id": "7fPiIDUQAU85",
        "outputId": "d3f13dc7-4e12-4ad9-93c2-9f66fcd94df8"
      },
      "source": [
        "onisep = onisep.drop_duplicates(subset=['appelation_metier'])\n",
        "onisep.shape"
      ],
      "execution_count": null,
      "outputs": [
        {
          "output_type": "execute_result",
          "data": {
            "text/plain": [
              "(1055, 7)"
            ]
          },
          "metadata": {
            "tags": []
          },
          "execution_count": 71
        }
      ]
    },
    {
      "cell_type": "markdown",
      "metadata": {
        "id": "bHGcoxoeBAZu"
      },
      "source": [
        "Finally, we delete the duplicate jobs and the jobs which were also present in the first dataset."
      ]
    },
    {
      "cell_type": "code",
      "metadata": {
        "colab": {
          "base_uri": "https://localhost:8080/"
        },
        "id": "FOBgoiPbAfGR",
        "outputId": "f38f8613-c2d7-475f-a2e7-f6f6701a063a"
      },
      "source": [
        "jobs_poleemploi = df['appelation_metier'].unique()\n",
        "onisep = onisep[~onisep['appelation_metier'].isin(jobs_poleemploi)]\n",
        "onisep = onisep.reset_index()\n",
        "onisep.shape"
      ],
      "execution_count": null,
      "outputs": [
        {
          "output_type": "execute_result",
          "data": {
            "text/plain": [
              "(610, 8)"
            ]
          },
          "metadata": {
            "tags": []
          },
          "execution_count": 72
        }
      ]
    },
    {
      "cell_type": "markdown",
      "metadata": {
        "id": "a8BNv75vicMz"
      },
      "source": [
        "CBOW"
      ]
    },
    {
      "cell_type": "code",
      "metadata": {
        "colab": {
          "base_uri": "https://localhost:8080/"
        },
        "id": "HxOXbGSFiRgs",
        "outputId": "ccde559d-f460-4d7d-b582-3682fd3e54e6"
      },
      "source": [
        "sequences_onisep = tokenizer.texts_to_sequences(onisep['appelation_metier'])\n",
        "X_onisep = pad_sequences(sequences_onisep, maxlen=MAX_SEQUENCE_LENGTH)\n",
        "y_pred = np.argmax(cbow_model(X_onisep), axis=-1).reshape(-1,1)\n",
        "print('Accuracy with CBOW model: ', np.mean(y_pred == OrdinalEncoder().fit_transform(onisep['code_grand_domaine'].values.reshape(-1,1))))"
      ],
      "execution_count": null,
      "outputs": [
        {
          "output_type": "stream",
          "text": [
            "Accuracy with CBOW model:  0.7311475409836066\n"
          ],
          "name": "stdout"
        }
      ]
    },
    {
      "cell_type": "markdown",
      "metadata": {
        "id": "7ypk1PxskOcq"
      },
      "source": [
        "Transformer"
      ]
    },
    {
      "cell_type": "code",
      "metadata": {
        "colab": {
          "base_uri": "https://localhost:8080/"
        },
        "id": "oKsjN6cPkPXx",
        "outputId": "ddddd5ce-5ca7-41aa-94d9-d4313331d9fa"
      },
      "source": [
        "encoded_test = encode_dataset(camembert_tokenizer, onisep['appelation_metier'], 35)\n",
        "y_pred = np.argmax(camembert_model(encoded_test), axis=-1).reshape(-1,1)\n",
        "print(\"Accuracy with CamemBert model:\", np.mean(y_pred == OrdinalEncoder().fit_transform(onisep['code_grand_domaine'].values.reshape(-1,1))))"
      ],
      "execution_count": null,
      "outputs": [
        {
          "output_type": "stream",
          "text": [
            "Accuracy with CamemBert model: 0.7950819672131147\n"
          ],
          "name": "stdout"
        }
      ]
    },
    {
      "cell_type": "markdown",
      "metadata": {
        "id": "iQDs7yoJiZyj"
      },
      "source": [
        "Fast text"
      ]
    },
    {
      "cell_type": "code",
      "metadata": {
        "colab": {
          "base_uri": "https://localhost:8080/"
        },
        "id": "d0p1elPCr0xp",
        "outputId": "aa0993ef-8ad6-4fc9-9761-92c847739d78"
      },
      "source": [
        "with open('onisep_test.txt', 'w') as f:\n",
        "    for each_text, each_label in zip(onisep['appelation_metier'], onisep['code_grand_domaine']):\n",
        "        f.writelines(f'__label__{each_label} {each_text}\\n')\n",
        "\n",
        "print('Accuracy with Fast Text model:', fasttext_model.test('onisep_test.txt')[1])"
      ],
      "execution_count": null,
      "outputs": [
        {
          "output_type": "stream",
          "text": [
            "Accuracy with Fast Text model: 0.7032786885245902\n"
          ],
          "name": "stdout"
        }
      ]
    },
    {
      "cell_type": "markdown",
      "metadata": {
        "id": "nkeS_35Vv29q"
      },
      "source": [
        "## **Performance with spelling mistake**"
      ]
    },
    {
      "cell_type": "markdown",
      "metadata": {
        "id": "8u2cJhwOnuZn"
      },
      "source": [
        "Also, in real life problem, jobs can be written with spelling mistakes. Therefore, we can look at the evolution of the accuracy according the rate of jobs with spelling mistakes."
      ]
    },
    {
      "cell_type": "code",
      "metadata": {
        "colab": {
          "base_uri": "https://localhost:8080/",
          "height": 36
        },
        "id": "yZGMCYmrJUup",
        "outputId": "2066ab2d-16c2-4fe7-f518-ddb588e73254"
      },
      "source": [
        "def delete_random_letter(text):\n",
        "  L = list(text)\n",
        "  n = len(L)\n",
        "  i  = np.random.randint(0,n)\n",
        "  L.pop(i)\n",
        "  return ''.join(L)\n",
        "delete_random_letter('statisticien')"
      ],
      "execution_count": null,
      "outputs": [
        {
          "output_type": "execute_result",
          "data": {
            "application/vnd.google.colaboratory.intrinsic+json": {
              "type": "string"
            },
            "text/plain": [
              "'satisticien'"
            ]
          },
          "metadata": {
            "tags": []
          },
          "execution_count": 79
        }
      ]
    },
    {
      "cell_type": "code",
      "metadata": {
        "id": "QgbNRdpJobx3"
      },
      "source": [
        "acc_cbow = []\n",
        "acc_transformer = []\n",
        "acc_fasttext = []\n",
        "R = [0.2 * i for i in range(6)]\n",
        "for r in R:\n",
        "  onisep_mistake = onisep.copy()\n",
        "  sel = np.random.randint(onisep.shape[0],size=int(r * onisep.shape[0]))\n",
        "  onisep_mistake.loc[sel,'appelation_metier'] = onisep_mistake.loc[sel,'appelation_metier'].apply(delete_random_letter)\n",
        "\n",
        "  #CBOW\n",
        "  sequences_onisep = tokenizer.texts_to_sequences(onisep_mistake['appelation_metier'])\n",
        "  X_onisep = pad_sequences(sequences_onisep, maxlen=MAX_SEQUENCE_LENGTH)\n",
        "  y_pred = np.argmax(cbow_model(X_onisep), axis=-1).reshape(-1,1)\n",
        "  acc_cbow.append(np.mean(y_pred == OrdinalEncoder().fit_transform(onisep_mistake['code_grand_domaine'].values.reshape(-1,1))))\n",
        "\n",
        "  #Transformer\n",
        "  encoded_test = encode_dataset(camembert_tokenizer, onisep_mistake['appelation_metier'], 35)\n",
        "  y_pred = np.argmax(camembert_model(encoded_test), axis=-1).reshape(-1,1)\n",
        "  acc_transformer.append(np.mean(y_pred == OrdinalEncoder().fit_transform(onisep_mistake['code_grand_domaine'].values.reshape(-1,1))))\n",
        "\n",
        "  #Fasttext\n",
        "  with open('onisep_test.txt', 'w') as f:\n",
        "    for each_text, each_label in zip(onisep_mistake['appelation_metier'], onisep_mistake['code_grand_domaine']):\n",
        "        f.writelines(f'__label__{each_label} {each_text}\\n')\n",
        "  acc_fasttext.append(fasttext_model.test('onisep_test.txt')[1])"
      ],
      "execution_count": null,
      "outputs": []
    },
    {
      "cell_type": "code",
      "metadata": {
        "colab": {
          "base_uri": "https://localhost:8080/",
          "height": 404
        },
        "id": "jrN4SgFotXXI",
        "outputId": "492fadf2-5148-472d-ccd3-fb293307f53b"
      },
      "source": [
        "plt.figure(figsize=(12,6))\n",
        "\n",
        "plt.plot(R, acc_cbow, label = 'CBOW model' )\n",
        "plt.scatter(R, acc_cbow)\n",
        "plt.plot(R, acc_transformer, label = 'CamemBert model' )\n",
        "plt.scatter(R, acc_transformer)\n",
        "plt.plot(R, acc_fasttext, label = 'Fast Text model' )\n",
        "plt.scatter(R, acc_fasttext)\n",
        "plt.legend(loc='upper right')\n",
        "plt.title('Evolution of the accuracy when the rate of spelling mistake increases')\n",
        "plt.ylabel('Accuracy')\n",
        "plt.xlabel('Ratio of spelling mistakes')\n",
        "\n",
        "plt.savefig('spelling_mistakes.png')\n",
        "\n",
        "plt.show()"
      ],
      "execution_count": null,
      "outputs": [
        {
          "output_type": "display_data",
          "data": {
            "image/png": "[encoded data removed]",
            "text/plain": [
              "<Figure size 864x432 with 1 Axes>"
            ]
          },
          "metadata": {
            "tags": [],
            "needs_background": "light"
          }
        }
      ]
    }
  ]
}